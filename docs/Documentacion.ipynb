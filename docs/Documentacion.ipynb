{
 "cells": [
  {
   "cell_type": "markdown",
   "metadata": {},
   "source": [
    "## Documentación del paquete: **gestdata**\n"
   ]
  },
  {
   "cell_type": "markdown",
   "metadata": {},
   "source": [
    "En este documento se presentan las funcionalidades que ofrece el paquete **gestdata**. Aparte de contener explicaciones de cada función y clase que se implementa en la librería, contiene bloques de código que ayudan a entender el correcto uso del paquete **gestdata**."
   ]
  },
  {
   "cell_type": "markdown",
   "metadata": {},
   "source": [
    "### Importación de los ficheros necesarios"
   ]
  },
  {
   "cell_type": "markdown",
   "metadata": {},
   "source": [
    "Por supuesto, para poder ejecutar las celdas de este documento se necesitan importar todas las funciones y definiciones de **gestdata**."
   ]
  },
  {
   "cell_type": "code",
   "execution_count": 3,
   "metadata": {},
   "outputs": [],
   "source": [
    "from gestdata import *"
   ]
  },
  {
   "cell_type": "markdown",
   "metadata": {},
   "source": [
    "### Inicialización de los datos"
   ]
  },
  {
   "cell_type": "markdown",
   "metadata": {},
   "source": [
    "A lo largo de este documento se mostrarán ejecuciones de distintas funciones del paquete **gestdata**. Por tanto, se requieren datos sobre los cuales hacer las ejecuciones. En esta sección se inicializan varios tipos de estructuras de datos que se emplearán a lo largo del documento."
   ]
  },
  {
   "cell_type": "code",
   "execution_count": 4,
   "metadata": {},
   "outputs": [],
   "source": [
    "# Preparamos un numpy.array numérico a\n",
    "a = np.array([3.5,7.4,1.2,2.0,3.9,5.3,6.1,6.9])\n",
    "\n",
    "# Preparamos un objeto pandas.Series s que contenga números\n",
    "s = pd.Series([7.6,2.2,2.4,1.3,6.4,9.9])\n",
    "\n",
    "# Preparamos un pandas.DataFrame df con los datos de 5 personas\n",
    "Name = (\"Jon\", \"Bill\", \"Maria\", \"Ben\", \"Tina\")\n",
    "Age = (23, 41, 32, 58, 26)\n",
    "Weight = (61,98,75,112,74)\n",
    "Height = (1.75,1.68,1.56,1.86,1.76)\n",
    "Hair = (\"Long\", \"Short\",\"Long\", \"Short\",\"Long\")\n",
    "Independent = (True, False, True, True, False)\n",
    "\n",
    "df = pd.DataFrame({\"Name\":Name, \"Age\":Age, \"Weight\":Weight, \"Height\":Height, \"Hair\":Hair, \"Independent\":Independent})"
   ]
  },
  {
   "cell_type": "markdown",
   "metadata": {},
   "source": [
    "### Normalización y estandarización (stannorm.py)"
   ]
  },
  {
   "cell_type": "markdown",
   "metadata": {},
   "source": [
    "En esta sección se analizan las funciones de normalización y estandarización que ofrece el paquete **gestdata**. La implementación de dichas funciones se encuentra en el fichero \"stannorm.py\"."
   ]
  },
  {
   "cell_type": "markdown",
   "metadata": {},
   "source": [
    "#### Normalización"
   ]
  },
  {
   "cell_type": "markdown",
   "metadata": {},
   "source": [
    "La librería **gestdata** ofrece una única función para normalizar los datos numéricos de un *numpy.array*, un *pandas.Series* o un *pandas.DataFrame*, de tal modo que el valor mínimo sea 0 y el máximo 1. En el caso del dataframe, esto se hace para cada columna. La función para esta tarea se llama ***normalize***, y sólo recibe una entrada: los estructura de datos a normalizar. Veamos unos ejemplos de ejecución:"
   ]
  },
  {
   "cell_type": "code",
   "execution_count": 5,
   "metadata": {},
   "outputs": [
    {
     "name": "stdout",
     "output_type": "stream",
     "text": [
      "np.array original: [3.5 7.4 1.2 2.  3.9 5.3 6.1 6.9]\n",
      "np.array normalizado: [0.37096774 1.         0.         0.12903226 0.43548387 0.66129032\n",
      " 0.79032258 0.91935484]\n",
      "\n",
      "pd.Series original: [7.6 2.2 2.4 1.3 6.4 9.9]\n",
      "pd.Series normalizado: [0.73255814 0.10465116 0.12790698 0.         0.59302326 1.        ]\n",
      "\n",
      "pd.DataFrame original:\n",
      "     Name  Age  Weight  Height   Hair  Independent\n",
      "0    Jon   23      61    1.75   Long         True\n",
      "1   Bill   41      98    1.68  Short        False\n",
      "2  Maria   32      75    1.56   Long         True\n",
      "3    Ben   58     112    1.86  Short         True\n",
      "4   Tina   26      74    1.76   Long        False\n",
      "\n",
      "pd.DataFrame normalizado:\n",
      "     Name       Age    Weight    Height   Hair  Independent\n",
      "0    Jon  0.000000  0.000000  0.633333   Long         True\n",
      "1   Bill  0.514286  0.725490  0.400000  Short        False\n",
      "2  Maria  0.257143  0.274510  0.000000   Long         True\n",
      "3    Ben  1.000000  1.000000  1.000000  Short         True\n",
      "4   Tina  0.085714  0.254902  0.666667   Long        False\n",
      "\n",
      "Error:\n",
      "Los valores tienen que ser numéricos\n"
     ]
    }
   ],
   "source": [
    "# Normalizar un np.array\n",
    "normalized = normalize(a)\n",
    "print(\"np.array original:\", a)\n",
    "print(\"np.array normalizado:\", normalized)\n",
    "print()\n",
    "\n",
    "# Normalizar un objeto pd.Series\n",
    "normalized = normalize(s)\n",
    "print(\"pd.Series original:\", np.array(s))\n",
    "print(\"pd.Series normalizado:\", np.array(normalized))\n",
    "print()\n",
    "\n",
    "\n",
    "# Normalizar un pd.DataFrame\n",
    "normalized = normalize(df)\n",
    "print(\"pd.DataFrame original:\\n\", df)\n",
    "print()\n",
    "print(\"pd.DataFrame normalizado:\\n\", normalized)\n",
    "\n",
    "# Que ocurre si le pasamos un vector no numérico?\n",
    "try:\n",
    "    normalize(np.array(\"abc\"))\n",
    "except Exception as e:\n",
    "    print(\"\\nError:\")\n",
    "    print(e)"
   ]
  },
  {
   "cell_type": "markdown",
   "metadata": {},
   "source": [
    "#### Estandarización"
   ]
  },
  {
   "cell_type": "markdown",
   "metadata": {},
   "source": [
    "Igual que en el caso anterior, el paquete ofrece una única funcion para estandarizar: ***standarize***. El funcionamiento es el mismo, sólo que esta vez como resultado obtenemos vectores estandarizados, es decir, de media 0 y de varianza 1. A continuación se muestran algunos ejemplos:"
   ]
  },
  {
   "cell_type": "code",
   "execution_count": 6,
   "metadata": {},
   "outputs": [
    {
     "name": "stdout",
     "output_type": "stream",
     "text": [
      "np.array original: [3.5 7.4 1.2 2.  3.9 5.3 6.1 6.9]\n",
      "np.array estandarizado: [-0.49004451  1.35205051 -1.57640823 -1.19854259 -0.30111169  0.36015319\n",
      "  0.73801884  1.11588448]\n",
      "\n",
      "pd.Series original: [7.6 2.2 2.4 1.3 6.4 9.9]\n",
      "pd.Series estandarizado: [ 0.82578898 -0.86760109 -0.80488293 -1.14983276  0.44948008  1.54704772]\n",
      "\n",
      "pd.DataFrame original:\n",
      "     Name  Age  Weight  Height   Hair  Independent\n",
      "0    Jon   23      61    1.75   Long         True\n",
      "1   Bill   41      98    1.68  Short        False\n",
      "2  Maria   32      75    1.56   Long         True\n",
      "3    Ben   58     112    1.86  Short         True\n",
      "4   Tina   26      74    1.76   Long        False\n",
      "\n",
      "pd.DataFrame estandarizado:\n",
      "     Name       Age    Weight    Height   Hair  Independent\n",
      "0    Jon -1.031616 -1.251035  0.282038   Long         True\n",
      "1   Bill  0.396775  0.761500 -0.423057  Short        False\n",
      "2  Maria -0.317420 -0.489535 -1.631792   Long         True\n",
      "3    Ben  1.745812  1.522999  1.390045  Short         True\n",
      "4   Tina -0.793551 -0.543928  0.382766   Long        False\n",
      "\n",
      "Error:\n",
      "Los valores tienen que ser numéricos\n"
     ]
    }
   ],
   "source": [
    "# Estandarizar un np.array\n",
    "standarized = standarize(a)\n",
    "print(\"np.array original:\", a)\n",
    "print(\"np.array estandarizado:\", standarized)\n",
    "print()\n",
    "\n",
    "# Estandarizar un objeto pd.Series\n",
    "standarized = standarize(s)\n",
    "print(\"pd.Series original:\", np.array(s))\n",
    "print(\"pd.Series estandarizado:\", np.array(standarized))\n",
    "print()\n",
    "\n",
    "\n",
    "# Estandarizar un pd.DataFrame\n",
    "standarized = standarize(df)\n",
    "print(\"pd.DataFrame original:\\n\", df)\n",
    "print()\n",
    "print(\"pd.DataFrame estandarizado:\\n\", standarized)\n",
    "\n",
    "# Que ocurre si le pasamos un vector no numérico?\n",
    "try:\n",
    "    standarize(np.array(\"abc\"))\n",
    "except Exception as e:\n",
    "    print(\"\\nError:\")\n",
    "    print(e)"
   ]
  },
  {
   "cell_type": "markdown",
   "metadata": {},
   "source": [
    "### Métricas (metrics.py)"
   ]
  },
  {
   "cell_type": "markdown",
   "metadata": {},
   "source": [
    "En esta sección se muestran las funciones que se encuentran en el fichero \"metrics.py\", las cuales sirven para calcular diversas métricas y hacer algunas operaciones dependiendo de estas."
   ]
  },
  {
   "cell_type": "markdown",
   "metadata": {},
   "source": [
    "#### Varianza"
   ]
  },
  {
   "cell_type": "markdown",
   "metadata": {},
   "source": [
    "El paquete **gestdata** ofrece la oportunidad de calcular la varianza de los datos númericos de un *numpy.array*, un *pandas.Series* o un *pandas.DataFrame*, gracias a la función ***varianza***. Esta función sólo necesita recibir los datos como parámetro para actuar. Veamos algunos ejemplos:"
   ]
  },
  {
   "cell_type": "code",
   "execution_count": 7,
   "metadata": {},
   "outputs": [
    {
     "name": "stdout",
     "output_type": "stream",
     "text": [
      "np.array original: [3.5 7.4 1.2 2.  3.9 5.3 6.1 6.9]\n",
      "Varianza del vector: 5.122678571428572\n",
      "\n",
      "pd.Series original: [7.6 2.2 2.4 1.3 6.4 9.9]\n",
      "Varianza del vector: 12.202666666666667\n",
      "\n",
      "pd.DataFrame original:\n",
      "     Name  Age  Weight  Height   Hair  Independent\n",
      "0    Jon   23      61    1.75   Long         True\n",
      "1   Bill   41      98    1.68  Short        False\n",
      "2  Maria   32      75    1.56   Long         True\n",
      "3    Ben   58     112    1.86  Short         True\n",
      "4   Tina   26      74    1.76   Long        False\n",
      "\n",
      "Varianzas del dataframe :\n",
      " Age       198.50000\n",
      "Weight    422.50000\n",
      "Height      0.01232\n",
      "dtype: float64\n",
      "\n",
      "Error:\n",
      "x tiene que ser un vector numérico\n"
     ]
    }
   ],
   "source": [
    "# Varianza de un np.array\n",
    "vari = varianza(a)\n",
    "print(\"np.array original:\", a)\n",
    "print(\"Varianza del vector:\", vari)\n",
    "print()\n",
    "\n",
    "# Varianza de un objeto pd.Series\n",
    "vari = varianza(s)\n",
    "print(\"pd.Series original:\", np.array(s))\n",
    "print(\"Varianza del vector:\", vari)\n",
    "print()\n",
    "\n",
    "\n",
    "# Varianzas de las columnas numéricas de un pd.DataFrame\n",
    "vari = varianza(df)\n",
    "print(\"pd.DataFrame original:\\n\", df)\n",
    "print()\n",
    "print(\"Varianzas del dataframe :\\n\", vari)\n",
    "\n",
    "# Que ocurre si le pasamos un vector no numérico?\n",
    "try:\n",
    "    varianza(np.array(\"abc\"))\n",
    "except Exception as e:\n",
    "    print(\"\\nError:\")\n",
    "    print(e)"
   ]
  },
  {
   "cell_type": "markdown",
   "metadata": {},
   "source": [
    "#### Entropía"
   ]
  },
  {
   "cell_type": "markdown",
   "metadata": {},
   "source": [
    "Además de la varianza, permite calcular otra métrica: la entropía. Esta métrica se suele utilizar para variables categóricas, pero el paquete **gestdata** también admite tratar variables numéricas como si fueran categóricas. El calculo de la entropía se hace mediante el método ***entropy***, y el funcionamiento es exactamente el mismo que el de la varianza."
   ]
  },
  {
   "cell_type": "code",
   "execution_count": 8,
   "metadata": {},
   "outputs": [
    {
     "name": "stdout",
     "output_type": "stream",
     "text": [
      "np.array original: [3.5 7.4 1.2 2.  3.9 5.3 6.1 6.9]\n",
      "Entropía del vector: 3.0\n",
      "\n",
      "pd.Series original: [7.6 2.2 2.4 1.3 6.4 9.9]\n",
      "Entropía del vector: 2.584962500721156\n",
      "\n",
      "pd.DataFrame original:\n",
      "     Name  Age  Weight  Height   Hair  Independent\n",
      "0    Jon   23      61    1.75   Long         True\n",
      "1   Bill   41      98    1.68  Short        False\n",
      "2  Maria   32      75    1.56   Long         True\n",
      "3    Ben   58     112    1.86  Short         True\n",
      "4   Tina   26      74    1.76   Long        False\n",
      "\n",
      "Entropía del dataframe :\n",
      " Name           2.321928\n",
      "Age            2.321928\n",
      "Weight         2.321928\n",
      "Height         2.321928\n",
      "Hair           0.970951\n",
      "Independent    0.970951\n",
      "dtype: float64\n",
      "\n",
      "Error:\n",
      "Alguna dimensión de x es 0\n"
     ]
    }
   ],
   "source": [
    "# Entropía de un np.array\n",
    "entrpy = entropy(a)\n",
    "print(\"np.array original:\", a)\n",
    "print(\"Entropía del vector:\", entrpy)\n",
    "print()\n",
    "\n",
    "# Entropía de un objeto pd.Series\n",
    "entrpy = entropy(s)\n",
    "print(\"pd.Series original:\", np.array(s))\n",
    "print(\"Entropía del vector:\", entrpy)\n",
    "print()\n",
    "\n",
    "\n",
    "# Entropías de todas las columnas de un pd.DataFrame\n",
    "entrpy = entropy(df)\n",
    "print(\"pd.DataFrame original:\\n\", df)\n",
    "print()\n",
    "print(\"Entropía del dataframe :\\n\", entrpy)\n",
    "\n",
    "# Que ocurre si le pasamos un vector vacío?\n",
    "try:\n",
    "    entropy(np.array([]))\n",
    "except Exception as e:\n",
    "    print(\"\\nError:\")\n",
    "    print(e)"
   ]
  },
  {
   "cell_type": "markdown",
   "metadata": {},
   "source": [
    "#### ROC y AUC"
   ]
  },
  {
   "cell_type": "markdown",
   "metadata": {},
   "source": [
    "Aparte de las métricas mencionadas, la librería **gestdata** ofrece funciones que sirven para manejar muestras de clasificación. Concretamente, implementa la función ***ROC***, el cual calcula y visualiza el gráfico ROC que se obtiene al hacer la clasificación con distintos límites de decisión. Para esto, necesita 3 parámetros: un *pd.DataFrame* que contenga los datos, el nombre de la variable atributo en el dataframe (el que se utiliza para clasificar), y el nombre de la variable objetivo que se quiere predecir. Estos nombres tienen que estar presentes en el dataframe como columnas. Además, los atributos tienen que ser numéricos, y la variable objetivo binaria. Si esto fuera poco. también ofrece una función llamada ***AUC*** que sirve para calcular el *Area Under the Curve*, es decir, el área que hay debajo de la curva ROC. Por lo tanto, las 2 funciones son complementarias, y el segundo necesita del output del primero. Veámoslo con algunos ejemplos:"
   ]
  },
  {
   "cell_type": "code",
   "execution_count": 9,
   "metadata": {},
   "outputs": [
    {
     "data": {
      "image/png": "[encoded data removed]",
      "text/plain": [
       "<Figure size 640x480 with 1 Axes>"
      ]
     },
     "metadata": {},
     "output_type": "display_data"
    },
    {
     "name": "stdout",
     "output_type": "stream",
     "text": [
      "Coordenadas de los puntos de ROC:\n",
      "      x         y\n",
      "0  1.0  1.000000\n",
      "1  1.0  0.666667\n",
      "2  0.5  0.666667\n",
      "3  0.5  0.333333\n",
      "4  0.0  0.333333\n",
      "5  0.0  0.000000\n",
      "\n",
      "Area bajo la curva ROC: 0.5\n",
      "\n",
      "Error:\n",
      "La variable objetivo no es de tipo binario\n"
     ]
    }
   ],
   "source": [
    "# Ejecutamos ROC sobre el dataframe df, utilizando la variable \"Age\" como predictor e \n",
    "# \"Independent\" como objetivo. La función nos devuelve las coordenadas de los puntos de ROC\n",
    "roc_coords = ROC(df,attribute_variable=\"Age\",predict_variable=\"Independent\")\n",
    "print(\"Coordenadas de los puntos de ROC:\\n\", roc_coords)\n",
    "print()\n",
    "\n",
    "# Después, para calcular el área, le pasamos el dataframe de coordenadas del ROC a la función AUC. \n",
    "area = AUC(roc_coords)\n",
    "print(\"Area bajo la curva ROC:\", area)\n",
    "\n",
    "# Que ocurre, por ejemplo, si la variable objetivo especificada no es binaria?\n",
    "try:\n",
    "    roc_coords = ROC(df,attribute_variable=\"Age\",predict_variable=\"Weight\")\n",
    "except Exception as e:\n",
    "    print(\"\\nError:\")\n",
    "    print(e)"
   ]
  },
  {
   "cell_type": "markdown",
   "metadata": {},
   "source": [
    "#### Todo en uno"
   ]
  },
  {
   "cell_type": "markdown",
   "metadata": {},
   "source": [
    "Viendo todas las funciones que hay para calcular métricas, **gestdata** ofrece un método que combina todas en una, la denominada ***metricas***. Esta función, dado un *pd.DataFrame* de datos, calcula todas las métricas dependiendo del tipo de variable: varianza para las columnas numéricas, entropía para las categóricas, y tambíen tanto la curva ROC como el valor AUC si se especifican una variable predictora y una objetivo. A continuación se presentan unos ejemplos de ejecución:"
   ]
  },
  {
   "cell_type": "code",
   "execution_count": 10,
   "metadata": {},
   "outputs": [
    {
     "name": "stdout",
     "output_type": "stream",
     "text": [
      "pd.DataFrame original:\n",
      "     Name  Age  Weight  Height   Hair  Independent\n",
      "0    Jon   23      61    1.75   Long         True\n",
      "1   Bill   41      98    1.68  Short        False\n",
      "2  Maria   32      75    1.56   Long         True\n",
      "3    Ben   58     112    1.86  Short         True\n",
      "4   Tina   26      74    1.76   Long        False\n",
      "\n",
      "Varianza/Entropía de las variables del dataframe:\n",
      "        Name    Age  Weight   Height      Hair  Independent\n",
      "0  2.321928  198.5   422.5  0.01232  0.970951     0.970951\n",
      "\n",
      "Entropía, varianza, ROC y AUC del dataframe:\n",
      "\n"
     ]
    },
    {
     "data": {
      "image/png": "[encoded data removed]",
      "text/plain": [
       "<Figure size 640x480 with 1 Axes>"
      ]
     },
     "metadata": {},
     "output_type": "display_data"
    },
    {
     "data": {
      "text/html": [
       "<div>\n",
       "<style scoped>\n",
       "    .dataframe tbody tr th:only-of-type {\n",
       "        vertical-align: middle;\n",
       "    }\n",
       "\n",
       "    .dataframe tbody tr th {\n",
       "        vertical-align: top;\n",
       "    }\n",
       "\n",
       "    .dataframe thead th {\n",
       "        text-align: right;\n",
       "    }\n",
       "</style>\n",
       "<table border=\"1\" class=\"dataframe\">\n",
       "  <thead>\n",
       "    <tr style=\"text-align: right;\">\n",
       "      <th></th>\n",
       "      <th>Name</th>\n",
       "      <th>Age</th>\n",
       "      <th>Weight</th>\n",
       "      <th>Height</th>\n",
       "      <th>Hair</th>\n",
       "      <th>Independent</th>\n",
       "    </tr>\n",
       "  </thead>\n",
       "  <tbody>\n",
       "    <tr>\n",
       "      <th>0</th>\n",
       "      <td>2.321928</td>\n",
       "      <td>198.5</td>\n",
       "      <td>422.5</td>\n",
       "      <td>0.01232</td>\n",
       "      <td>0.970951</td>\n",
       "      <td>0.970951</td>\n",
       "    </tr>\n",
       "  </tbody>\n",
       "</table>\n",
       "</div>"
      ],
      "text/plain": [
       "       Name    Age  Weight   Height      Hair  Independent\n",
       "0  2.321928  198.5   422.5  0.01232  0.970951     0.970951"
      ]
     },
     "execution_count": 10,
     "metadata": {},
     "output_type": "execute_result"
    }
   ],
   "source": [
    "# Calculamos las métricas básicas del dataframe: Varianza para las variables numéricas del dataframe y entropía para las categóricas\n",
    "m = metricas(df)\n",
    "print(\"pd.DataFrame original:\\n\", df)\n",
    "print()\n",
    "print(\"Varianza/Entropía de las variables del dataframe:\\n\", m)\n",
    "print()\n",
    "# Además, si se especifican una variable atributo y una objetivo, visualiza el ROC y calcula el AUC\n",
    "print(\"Entropía, varianza, ROC y AUC del dataframe:\\n\")\n",
    "metricas(df, attribute_variable=\"Age\",predict_variable=\"Independent\")\n"
   ]
  },
  {
   "cell_type": "markdown",
   "metadata": {},
   "source": [
    "#### Filtrado de variables en base a las métricas"
   ]
  },
  {
   "cell_type": "markdown",
   "metadata": {},
   "source": [
    "Si esto fuera poco, la librería contiene una función que sirve para filtrar las variables de un *pd.DataFrame* en base a los valores de las métricas básicas (entropía y varianza). Concretamente, la función se llama ***filtrar***, y permite al usuario quitar algunas variables por medio de la condición que quiera, ya que recibe la condición como parámetro de tipo *string*. Además, gracias a 2 parámetros adicionales, permite ajustar el tipo de métrica que se quiere utilizar para filtrar. Todo esto se ve más claro con los siguientes ejemplos: "
   ]
  },
  {
   "cell_type": "code",
   "execution_count": 11,
   "metadata": {},
   "outputs": [
    {
     "name": "stdout",
     "output_type": "stream",
     "text": [
      "Métricas del dataframe:\n",
      "        Name    Age  Weight   Height      Hair  Independent\n",
      "0  2.321928  198.5   422.5  0.01232  0.970951     0.970951 \n",
      "\n",
      "Dataframe filtrado en base a la condición varianza>200 (las categóricas no resultan afectadas):\n",
      "    Name  Weight   Hair  Independent\n",
      "0    Jon      61   Long         True\n",
      "1   Bill      98  Short        False\n",
      "2  Maria      75   Long         True\n",
      "3    Ben     112  Short         True\n",
      "4   Tina      74   Long        False\n",
      "\n",
      "Dataframe filtrado en base a la condición entropía<=1 (las numéricas no resultan afectadas):\n",
      "   Age  Weight  Height   Hair  Independent\n",
      "0   23      61    1.75   Long         True\n",
      "1   41      98    1.68  Short        False\n",
      "2   32      75    1.56   Long         True\n",
      "3   58     112    1.86  Short         True\n",
      "4   26      74    1.76   Long        False\n"
     ]
    }
   ],
   "source": [
    "print(\"Métricas del dataframe:\\n\",metricas(df),\"\\n\")\n",
    "\n",
    "# Utilizamos la varianza para filtrar. Por ello, sólo se filtrarán columnas numéricas.\n",
    "# Se quitarán las variables numéricas que no tengan una varianza mayor a 200\n",
    "filtered = filtrar(df,condition=\">200\", use_varianza=True, use_entropy=False)\n",
    "print(\"Dataframe filtrado en base a la condición varianza>200 (las categóricas no resultan afectadas):\")\n",
    "print(filtered)\n",
    "print()\n",
    "\n",
    "# Utilizamos la entropía para filtrar. En este caso, la entropía se calcula para \n",
    "# las columnas categóricas, por lo que las numéricas no se verán afectadas.\n",
    "# Se quitarán las variables categóricas que no tengan una entropía menor o igual a 1\n",
    "filtered = filtrar(df,condition=\"<=1\", use_varianza=False, use_entropy=True)\n",
    "print(\"Dataframe filtrado en base a la condición entropía<=1 (las numéricas no resultan afectadas):\")\n",
    "print(filtered)"
   ]
  },
  {
   "cell_type": "markdown",
   "metadata": {},
   "source": [
    "De hecho, la función ***filtrar*** admite condiciones mucho más complejas. Por ejemplo, se puede utilizar el keyword \"*in*\" para ver si la métrica está dentro de una estructura definida por el usuario. Si eso fuera poco, se puede utilizar el keyword \"*elem*\" para reemplazar el valor de la métrica, y así, crear condiciones más largas y elaboradas. Las posibilidades son infinitas. Aquí se muestran 2 ejemplos: "
   ]
  },
  {
   "cell_type": "code",
   "execution_count": 12,
   "metadata": {},
   "outputs": [
    {
     "name": "stdout",
     "output_type": "stream",
     "text": [
      "Métricas del dataframe:\n",
      "        Name    Age  Weight   Height      Hair  Independent\n",
      "0  2.321928  198.5   422.5  0.01232  0.970951     0.970951 \n",
      "\n",
      "Dataframe filtrado en base a la condición métrica in [198.5,0.9709505944546686] :\n",
      "   Age   Hair  Independent\n",
      "0   23   Long         True\n",
      "1   41  Short        False\n",
      "2   32   Long         True\n",
      "3   58  Short         True\n",
      "4   26   Long        False\n",
      "\n",
      "Dataframe filtrado en base a la condición métrica==422.5 or (métrica<3 and métrica>2) :\n",
      "    Name  Weight\n",
      "0    Jon      61\n",
      "1   Bill      98\n",
      "2  Maria      75\n",
      "3    Ben     112\n",
      "4   Tina      74\n"
     ]
    }
   ],
   "source": [
    "print(\"Métricas del dataframe:\\n\",metricas(df),\"\\n\")\n",
    "\n",
    "# En este caso, utilizamos todas las métricas para filtrar (varianza para las numéricas y\n",
    "# entropía para las categóricas). La condición en este caso es un poco mas complicada:\n",
    "# que el valor de la métrica se encuentre en una lista definida.\n",
    "filtered = filtrar(df,condition=\"in [198.5,0.9709505944546686]\", use_varianza=True, use_entropy=True)\n",
    "print(\"Dataframe filtrado en base a la condición métrica in [198.5,0.9709505944546686] :\")\n",
    "print(filtered)\n",
    "print()\n",
    "\n",
    "# Por último, se pueden crear condiciones aún más complejas utilizando el keyword \"elem\"\n",
    "# en la condición, como sustitución del valor de la métrica. Por ejemplo, podemos\n",
    "# pedir que el valor de la métrica sea igual a 422.5, o que esté entre 2 y 3:\n",
    "filtered = filtrar(df,condition=\"==422.5 or (elem<3 and elem>2)\", use_varianza=True, use_entropy=True)\n",
    "print(\"Dataframe filtrado en base a la condición métrica==422.5 or (métrica<3 and métrica>2) :\")\n",
    "print(filtered)"
   ]
  },
  {
   "cell_type": "markdown",
   "metadata": {},
   "source": [
    "### Correlación e información mutua (correlmutua.py)"
   ]
  },
  {
   "cell_type": "markdown",
   "metadata": {},
   "source": [
    "En esta sección se explican las funciones que se encuentran en el fichero \"correlmutua.py\", las cuales sirven para calcular la correlación y la información mutua entre las variables de un dataframe. Además, el paquete ofrece la posibilidad de visualizar la matriz de relaciones que contiene estos valores."
   ]
  },
  {
   "cell_type": "markdown",
   "metadata": {},
   "source": [
    "#### Correlación"
   ]
  },
  {
   "cell_type": "markdown",
   "metadata": {},
   "source": [
    "El paquete **gestdata** implementa la funcion ***correlacion***, que se puede utilizar para calcular las correlaciones entre todos los pares de variables numéricas de un *pd.DataFrame*. Concretamente, calcula los coeficientes de correlación de Pearson."
   ]
  },
  {
   "cell_type": "code",
   "execution_count": 13,
   "metadata": {},
   "outputs": [
    {
     "name": "stdout",
     "output_type": "stream",
     "text": [
      "pd.DataFrame original:\n",
      "     Name  Age  Weight  Height   Hair  Independent\n",
      "0    Jon   23      61    1.75   Long         True\n",
      "1   Bill   41      98    1.68  Short        False\n",
      "2  Maria   32      75    1.56   Long         True\n",
      "3    Ben   58     112    1.86  Short         True\n",
      "4   Tina   26      74    1.76   Long        False\n",
      "\n",
      "Coeficientes de correlación de Pearson entre las variables numéricas:\n",
      "    Age-Weight  Age-Height  Weight-Height\n",
      "0    0.967725    0.436432       0.406532\n"
     ]
    }
   ],
   "source": [
    "print(\"pd.DataFrame original:\\n\", df)\n",
    "print()\n",
    "\n",
    "# Calculamos un coeficiente de correlación de Pearson para cada par de variables numéricas\n",
    "corr = correlacion(df)\n",
    "\n",
    "print(\"Coeficientes de correlación de Pearson entre las variables numéricas:\\n\", corr)"
   ]
  },
  {
   "cell_type": "markdown",
   "metadata": {},
   "source": [
    "#### Información mutua"
   ]
  },
  {
   "cell_type": "markdown",
   "metadata": {},
   "source": [
    "Ya que la correlación solo sirve para variables numéricas, el paquete **gestdata** ofrece otra función que mide la relación entre variables categóricas: ***mutual_information***. Este calcula la información mutua entre todas las variables de un *pd.DataFrame*. El funcionamiento es el mismo que el de la correlación. Además, tiene un parámetro para definir si sólo se quiere calcular sobre las variables categóricas. Si se quiere calcular la información mutua entre 2 vectores, se puede utilizar el método ***mutual_information_vectors***."
   ]
  },
  {
   "cell_type": "code",
   "execution_count": 14,
   "metadata": {},
   "outputs": [
    {
     "name": "stdout",
     "output_type": "stream",
     "text": [
      "pd.DataFrame original:\n",
      "     Name  Age  Weight  Height   Hair  Independent\n",
      "0    Jon   23      61    1.75   Long         True\n",
      "1   Bill   41      98    1.68  Short        False\n",
      "2  Maria   32      75    1.56   Long         True\n",
      "3    Ben   58     112    1.86  Short         True\n",
      "4   Tina   26      74    1.76   Long        False\n",
      "\n",
      "Información mutua de cada par de variables\n",
      "    Name-Age  Name-Weight  Name-Height  Name-Hair  Name-Independent  \\\n",
      "0  2.321928     2.321928     2.321928   0.970951          0.970951   \n",
      "\n",
      "   Age-Weight  Age-Height  Age-Hair  Age-Independent  Weight-Height  \\\n",
      "0    2.321928    2.321928  0.970951         0.970951       2.321928   \n",
      "\n",
      "   Weight-Hair  Weight-Independent  Height-Hair  Height-Independent  \\\n",
      "0     0.970951            0.970951     0.970951            0.970951   \n",
      "\n",
      "   Hair-Independent  \n",
      "0          0.019973  \n",
      "\n",
      "Información mutua de cada par de variables categóricas\n",
      "    Name-Hair  Name-Independent  Hair-Independent\n",
      "0   0.970951          0.970951          0.019973\n"
     ]
    }
   ],
   "source": [
    "print(\"pd.DataFrame original:\\n\", df)\n",
    "print()\n",
    "\n",
    "# Calculamos la información mutua entre todas las variables del dataframe\n",
    "mutinfo = mutual_information(df)\n",
    "\n",
    "print(\"Información mutua de cada par de variables\\n\", mutinfo)\n",
    "print()\n",
    "\n",
    "# Calculamos la información mutua entre las variables categóricas del dataframe\n",
    "mutinfo = mutual_information(df, only_categorical=True)\n",
    "\n",
    "print(\"Información mutua de cada par de variables categóricas\\n\", mutinfo)"
   ]
  },
  {
   "cell_type": "code",
   "execution_count": 15,
   "metadata": {},
   "outputs": [
    {
     "name": "stdout",
     "output_type": "stream",
     "text": [
      "Información mutua entre las variables 'Name' y 'Hair': 0.9709505944546684\n"
     ]
    }
   ],
   "source": [
    "# Informacion mutua entre 2 vectores\n",
    "mutinfo = mutual_information_vectors(df[\"Name\"],df[\"Hair\"])\n",
    "\n",
    "print(\"Información mutua entre las variables 'Name' y 'Hair':\", mutinfo)"
   ]
  },
  {
   "cell_type": "markdown",
   "metadata": {},
   "source": [
    "#### Todo en uno"
   ]
  },
  {
   "cell_type": "markdown",
   "metadata": {},
   "source": [
    "Debido a que las funciones del fichero \"correlmutua.py\" calculan la relación entre las variables de un dataframe, se puede construir una matriz de relaciones con todos los valores. De hecho, el método ***mutual_correlation*** hace justamente eso. Calcula la correlacion para todos los pares de variables numéricas, la información mutua para las categóricas, y ajusta todos los valores en una matriz (*pd.Dataframe*). Los valores de la diagonal serán 1 en el caso de las númericas, y su entropía en el de las categóricas. Los demás serán *NaN*. Veamos un ejemplo:"
   ]
  },
  {
   "cell_type": "code",
   "execution_count": 16,
   "metadata": {},
   "outputs": [
    {
     "name": "stdout",
     "output_type": "stream",
     "text": [
      "pd.DataFrame original:\n",
      "     Name  Age  Weight  Height   Hair  Independent\n",
      "0    Jon   23      61    1.75   Long         True\n",
      "1   Bill   41      98    1.68  Short        False\n",
      "2  Maria   32      75    1.56   Long         True\n",
      "3    Ben   58     112    1.86  Short         True\n",
      "4   Tina   26      74    1.76   Long        False\n",
      "\n",
      "Matriz de relaciones de la variables\n",
      "                  Name       Age    Weight    Height      Hair  Independent\n",
      "Name         2.321928       NaN       NaN       NaN  0.970951     0.970951\n",
      "Age               NaN  1.000000  0.967725  0.436432       NaN          NaN\n",
      "Weight            NaN  0.967725  1.000000  0.406532       NaN          NaN\n",
      "Height            NaN  0.436432  0.406532  1.000000       NaN          NaN\n",
      "Hair         0.970951       NaN       NaN       NaN  0.970951     0.019973\n",
      "Independent  0.970951       NaN       NaN       NaN  0.019973     0.970951\n",
      "\n"
     ]
    }
   ],
   "source": [
    "print(\"pd.DataFrame original:\\n\", df)\n",
    "print()\n",
    "\n",
    "# Calculamos la matriz de correlacion/información mutua entre todas las variables del dataframe\n",
    "mutcorr = mutual_correlation(df)\n",
    "\n",
    "print(\"Matriz de relaciones de la variables\\n\", mutcorr)\n",
    "print()"
   ]
  },
  {
   "cell_type": "markdown",
   "metadata": {},
   "source": [
    "Además, el paquete **gestdata** trae otra función llamada ***corr_plot***, el cual sirve para hacer un gráfico de tipo heatmap de un dataframe. Está pensado para ser utilizado sobre la matriz de relaciones, pero se puede utilizar en cualquier otra situación. Veamos el resultado que obtiene sobre la matriz de relaciones calculada anteriormente:"
   ]
  },
  {
   "cell_type": "code",
   "execution_count": 17,
   "metadata": {},
   "outputs": [
    {
     "data": {
      "image/png": "[encoded data removed]",
      "text/plain": [
       "<Figure size 640x480 with 2 Axes>"
      ]
     },
     "metadata": {},
     "output_type": "display_data"
    }
   ],
   "source": [
    "# Visualizar la matriz de relaciones por medio de un heatmap\n",
    "corr_plot(mutcorr)"
   ]
  },
  {
   "cell_type": "markdown",
   "metadata": {},
   "source": [
    "### Discretización (discretization.py)"
   ]
  },
  {
   "cell_type": "markdown",
   "metadata": {},
   "source": [
    "En esta sección se muestran los métodos que están implementados en el fichero \"discretization.py\". Estas funciones sirven para discretizar valores númericos, en base a distintos criterios."
   ]
  },
  {
   "cell_type": "markdown",
   "metadata": {},
   "source": [
    "#### Discretización genérica"
   ]
  },
  {
   "cell_type": "markdown",
   "metadata": {},
   "source": [
    "La discretización más genérica posible consiste en separar los datos en intérvalos definidos por el usuario. Estos intérvalos se definen gracias a los puntos de corte. **gestdata** ofrece una función llamada ***discretize*** para esta tarea. Como parámetros necesita recibir un vector numérico y los puntos de corte definidos en una lista. En cuanto al output, devolverá un objeto de tipo **pandas.core.arrays.categorical.Categorical** que contenga los datos discretizados en intérvalos, y la definición de los intérvalos que se han utilizado como categorías. A continuación se muestran unas ejecuciones:"
   ]
  },
  {
   "cell_type": "code",
   "execution_count": 18,
   "metadata": {},
   "outputs": [
    {
     "name": "stdout",
     "output_type": "stream",
     "text": [
      "np.array original: [3.5 7.4 1.2 2.  3.9 5.3 6.1 6.9]\n",
      "np.array discretizado:\n",
      " [(1.0, 5.0], (5.0, inf], (1.0, 5.0], (1.0, 5.0], (1.0, 5.0], (5.0, inf], (5.0, inf], (5.0, inf]]\n",
      "Categories (3, interval[float64, right]): [(-inf, 1.0] < (1.0, 5.0] < (5.0, inf]]\n",
      "\n",
      "pd.Series original: [7.6 2.2 2.4 1.3 6.4 9.9]\n",
      "pd.Series discretizado:\n",
      " 0    (6.7, 10.0]\n",
      "1    (-1.0, 2.2]\n",
      "2     (2.2, 6.7]\n",
      "3    (-1.0, 2.2]\n",
      "4     (2.2, 6.7]\n",
      "5    (6.7, 10.0]\n",
      "dtype: category\n",
      "Categories (5, interval[float64, right]): [(-inf, -1.0] < (-1.0, 2.2] < (2.2, 6.7] < (6.7, 10.0] < (10.0, inf]]\n",
      "\n",
      "Error:\n",
      "Input array must be 1 dimensional\n"
     ]
    }
   ],
   "source": [
    "# Discretizar un np.array numérico en 3 intérvalos definidos por los puntos de corte [1,5]\n",
    "discretized = discretize(a,[1,5])\n",
    "print(\"np.array original:\", a)\n",
    "print(\"np.array discretizado:\\n\", discretized)\n",
    "print()\n",
    "\n",
    "# Discretizar un pd.Series numérico en 5 intérvalos definidos por los puntos de corte [-1,2.2,6.7,10]\n",
    "discretized = discretize(s, [-1,2.2,6.7,10])\n",
    "print(\"pd.Series original:\", np.array(s))\n",
    "print(\"pd.Series discretizado:\\n\", discretized)\n",
    "\n",
    "# Que ocurre si le pasamos un pd.DataFrame?\n",
    "try:\n",
    "    discretize(df,[1,3,4])\n",
    "except Exception as e:\n",
    "    print(\"\\nError:\")\n",
    "    print(e)"
   ]
  },
  {
   "cell_type": "markdown",
   "metadata": {},
   "source": [
    "#### Discretización de igual anchura (Equal-width binning)"
   ]
  },
  {
   "cell_type": "markdown",
   "metadata": {},
   "source": [
    "Un criterio para discretizar los datos puede ser la anchura de los intérvalos. En concreto, **gestdata** ofrece una función denominada ***discretizeEW*** que discretiza los valores numéricos en *num_bins* intérvalos de misma anchura (lo que se conoce como equal-width binning). Puede utilizarse con un *np.array*, un objeto *pd.Series* o un *pd.DataFrame*. Cuando la entrada es un vector, devuelve un objeto tipo *pandas.core.arrays.categorical.Categorical*, el cual contiene los valores discretizados en intérvalos, y los intérvalos que se han utilizado como categorías. En el caso del dataframe, devuelve un *pd.DataFrame* con las columnas númericas discretizadas, cada uno por su cuenta. Se verá más claro con unos ejemplos:"
   ]
  },
  {
   "cell_type": "code",
   "execution_count": 19,
   "metadata": {},
   "outputs": [
    {
     "name": "stdout",
     "output_type": "stream",
     "text": [
      "np.array original: [3.5 7.4 1.2 2.  3.9 5.3 6.1 6.9]\n",
      "np.array discretizado:\n",
      " [(3.267, 5.333], (5.333, inf], (-inf, 3.267], (-inf, 3.267], (3.267, 5.333], (3.267, 5.333], (5.333, inf], (5.333, inf]]\n",
      "Categories (3, interval[float64, right]): [(-inf, 3.267] < (3.267, 5.333] < (5.333, inf]]\n",
      "\n",
      "pd.Series original: [7.6 2.2 2.4 1.3 6.4 9.9]\n",
      "pd.Series discretizado:\n",
      " 0     (5.6, inf]\n",
      "1    (-inf, 5.6]\n",
      "2    (-inf, 5.6]\n",
      "3    (-inf, 5.6]\n",
      "4     (5.6, inf]\n",
      "5     (5.6, inf]\n",
      "dtype: category\n",
      "Categories (2, interval[float64, right]): [(-inf, 5.6] < (5.6, inf]]\n",
      "\n",
      "Error:\n",
      "Los valores tienen que ser numéricos\n"
     ]
    }
   ],
   "source": [
    "# Discretizar un np.array numérico en 3 intérvalos de igual anchura\n",
    "discretized = discretizeEW(a,num_bins=3)\n",
    "print(\"np.array original:\", a)\n",
    "print(\"np.array discretizado:\\n\", discretized)\n",
    "print()\n",
    "\n",
    "# Discretizar un pd.Series numérico en 2 intérvalos de igual anchura\n",
    "discretized = discretizeEW(s, num_bins=2)\n",
    "print(\"pd.Series original:\", np.array(s))\n",
    "print(\"pd.Series discretizado:\\n\", discretized)\n",
    "\n",
    "# Que ocurre si le pasamos un vector no numérico?\n",
    "try:\n",
    "    discretizeEW(np.array(\"abc\"),3)\n",
    "except Exception as e:\n",
    "    print(\"\\nError:\")\n",
    "    print(e)"
   ]
  },
  {
   "cell_type": "code",
   "execution_count": 20,
   "metadata": {},
   "outputs": [
    {
     "name": "stdout",
     "output_type": "stream",
     "text": [
      "pd.DataFrame original:\n",
      "     Name  Age  Weight  Height   Hair  Independent\n",
      "0    Jon   23      61    1.75   Long         True\n",
      "1   Bill   41      98    1.68  Short        False\n",
      "2  Maria   32      75    1.56   Long         True\n",
      "3    Ben   58     112    1.86  Short         True\n",
      "4   Tina   26      74    1.76   Long        False\n",
      "\n",
      "pd.DataFrame discretizado:\n",
      "     Name            Age         Weight         Height   Hair  Independent\n",
      "0    Jon  (-inf, 31.75]  (-inf, 73.75]  (1.71, 1.785]   Long         True\n",
      "1   Bill  (40.5, 49.25]  (86.5, 99.25]  (1.635, 1.71]  Short        False\n",
      "2  Maria  (31.75, 40.5]  (73.75, 86.5]  (-inf, 1.635]   Long         True\n",
      "3    Ben   (49.25, inf]   (99.25, inf]   (1.785, inf]  Short         True\n",
      "4   Tina  (-inf, 31.75]  (73.75, 86.5]  (1.71, 1.785]   Long        False\n",
      "\n",
      "Error:\n",
      "El parámetro num_bins tiene que ser mayor que 0\n",
      "\n",
      "Error:\n",
      "x tiene que ser un np.array, un pd.Series o un pd.DataFrame\n"
     ]
    }
   ],
   "source": [
    "# Discretizar las columnas numéricas de un dataframe en 4 intérvalos de igual anchura\n",
    "discretized = discretizeEW(df,num_bins=4)\n",
    "print(\"pd.DataFrame original:\\n\", df)\n",
    "print()\n",
    "print(\"pd.DataFrame discretizado:\\n\", discretized)\n",
    "\n",
    "# Que ocurre si le pasamos un num_bins incorrecto?\n",
    "try:\n",
    "    discretizeEW(df,0)\n",
    "except Exception as e:\n",
    "    print(\"\\nError:\")\n",
    "    print(e)\n",
    "\n",
    "# Que ocurre si le pasamos una entrada de otro tipo?\n",
    "try:\n",
    "    discretizeEW(\"abc\",3)\n",
    "except Exception as e:\n",
    "    print(\"\\nError:\")\n",
    "    print(e)"
   ]
  },
  {
   "cell_type": "markdown",
   "metadata": {},
   "source": [
    "#### Discretización de igual frecuencia (Equal-frequency binning)"
   ]
  },
  {
   "cell_type": "markdown",
   "metadata": {},
   "source": [
    "Otro criterio para discretizar los datos puede ser la frecuencia de los datos en cada intérvalo. Un algoritmo popular es la discretización de igual frecuencia (equal-frequency binning), que discretiza los valores tal que en cada intérvalo haya la misma cantidad de datos (puede haber una variación de 1). Esta función está implementada en **gestdata**, con el nombre de ***discretizeEF***. La manera de utilizarla es idéntica a la anterior."
   ]
  },
  {
   "cell_type": "code",
   "execution_count": 21,
   "metadata": {},
   "outputs": [
    {
     "name": "stdout",
     "output_type": "stream",
     "text": [
      "np.array original: [3.5 7.4 1.2 2.  3.9 5.3 6.1 6.9]\n",
      "np.array discretizado:\n",
      " [(-inf, 3.633], (5.833, inf], (-inf, 3.633], (-inf, 3.633], (3.633, 5.833], (3.633, 5.833], (5.833, inf], (5.833, inf]]\n",
      "Categories (3, interval[float64, right]): [(-inf, 3.633] < (3.633, 5.833] < (5.833, inf]]\n",
      "\n",
      "pd.Series original: [7.6 2.2 2.4 1.3 6.4 9.9]\n",
      "pd.Series discretizado:\n",
      " 0     (4.4, inf]\n",
      "1    (-inf, 4.4]\n",
      "2    (-inf, 4.4]\n",
      "3    (-inf, 4.4]\n",
      "4     (4.4, inf]\n",
      "5     (4.4, inf]\n",
      "dtype: category\n",
      "Categories (2, interval[float64, right]): [(-inf, 4.4] < (4.4, inf]]\n",
      "\n",
      "Error:\n",
      "Los valores tienen que ser numéricos\n"
     ]
    }
   ],
   "source": [
    "# Discretizar un np.array numérico en 3 intérvalos con la misma frecuencia de datos\n",
    "discretized = discretizeEF(a,num_bins=3)\n",
    "print(\"np.array original:\", a)\n",
    "print(\"np.array discretizado:\\n\", discretized)\n",
    "print()\n",
    "\n",
    "# Discretizar un pd.Series numérico en 2 intérvalos con la misma frecuencia de datos\n",
    "discretized = discretizeEF(s, num_bins=2)\n",
    "print(\"pd.Series original:\", np.array(s))\n",
    "print(\"pd.Series discretizado:\\n\", discretized)\n",
    "\n",
    "# Que ocurre si le pasamos un vector no numérico?\n",
    "try:\n",
    "    discretizeEF(np.array(\"abc\"),3)\n",
    "except Exception as e:\n",
    "    print(\"\\nError:\")\n",
    "    print(e)"
   ]
  },
  {
   "cell_type": "code",
   "execution_count": 22,
   "metadata": {},
   "outputs": [
    {
     "name": "stdout",
     "output_type": "stream",
     "text": [
      "pd.DataFrame original:\n",
      "     Name  Age  Weight  Height   Hair  Independent\n",
      "0    Jon   23      61    1.75   Long         True\n",
      "1   Bill   41      98    1.68  Short        False\n",
      "2  Maria   32      75    1.56   Long         True\n",
      "3    Ben   58     112    1.86  Short         True\n",
      "4   Tina   26      74    1.76   Long        False\n",
      "\n",
      "pd.DataFrame discretizado:\n",
      "     Name           Age        Weight        Height   Hair  Independent\n",
      "0    Jon  (-inf, 26.0]  (-inf, 74.0]  (1.68, 1.75]   Long         True\n",
      "1   Bill  (32.0, 41.0]  (75.0, 98.0]  (-inf, 1.68]  Short        False\n",
      "2  Maria  (26.0, 32.0]  (74.0, 75.0]  (-inf, 1.68]   Long         True\n",
      "3    Ben   (41.0, inf]   (98.0, inf]   (1.76, inf]  Short         True\n",
      "4   Tina  (-inf, 26.0]  (-inf, 74.0]  (1.75, 1.76]   Long        False\n",
      "\n",
      "Error:\n",
      "El parámetro num_bins tiene que ser mayor que 1\n",
      "\n",
      "Error:\n",
      "x tiene que ser un np.array, un pd.Series o un pd.DataFrame\n"
     ]
    }
   ],
   "source": [
    "# Discretizar las columnas numéricas de un dataframe en 4 intérvalos con la misma frecuencia de datos\n",
    "discretized = discretizeEF(df,num_bins=4)\n",
    "print(\"pd.DataFrame original:\\n\", df)\n",
    "print()\n",
    "print(\"pd.DataFrame discretizado:\\n\", discretized)\n",
    "\n",
    "# Que ocurre si le pasamos un num_bins incorrecto?\n",
    "try:\n",
    "    discretizeEF(df,0)\n",
    "except Exception as e:\n",
    "    print(\"\\nError:\")\n",
    "    print(e)\n",
    "\n",
    "# Que ocurre si le pasamos una entrada de otro tipo?\n",
    "try:\n",
    "    discretizeEF(\"abc\",3)\n",
    "except Exception as e:\n",
    "    print(\"\\nError:\")\n",
    "    print(e)"
   ]
  },
  {
   "cell_type": "markdown",
   "metadata": {},
   "source": [
    "#### Discretización por entropía (Entropy-based binning)"
   ]
  },
  {
   "cell_type": "markdown",
   "metadata": {},
   "source": [
    "Si eso fuera poco, **gestdata** implementa otro tipo de discretización: la discretización en base a la entropía. Este suele utilizarse para los datasets en el ámbito de Machine Learning. Su objetivo es discretizar los datos de modo que la información mutua con respecto a la variable que se quiere predecir se maximice. Esto, al fin y al cabo, conlleva una reducción de entropía de los datos, y puede ayudar en la tarea de la predicción. \n",
    "\n",
    "Este algoritmo es más especial, ya que intenta buscar una separación óptima de los atributos, pero el hallazgo no está asegurado. Por tanto, puede tener un punto de aleatoriedad, y necesita unos parámetros adicionales como el número de intentos/iteraciones. Dicho algoritmo está implementado en la función ***entropy_binning***. Para funcionar, requiere un vector númerico a discretizar (atributos) y otro vector binario que contenga las etiquetas que se quieren predecir. Además, hay que especificar el número de intérvalos. Como resultado, devuelve un vector de 3 elementos. El primer elemento corresponde al vector discretizado, el segundo a los puntos de corte calculados, y el tercero será la información mutua máxima que se ha conseguido obtener. Si se quieren ver los detalles de la implementación, se puede acudir a su documentación. Abajo se muestran unos ejemplos de uso de la función:"
   ]
  },
  {
   "cell_type": "code",
   "execution_count": 23,
   "metadata": {},
   "outputs": [],
   "source": [
    "# Definimos los atributos y la variable objetivo. En este caso, se quiere predecir \n",
    "# si una persona es independiente en base a su edad.\n",
    "atributos = np.array(df[\"Age\"])\n",
    "etiquetas = np.array(df[\"Independent\"])"
   ]
  },
  {
   "cell_type": "code",
   "execution_count": 24,
   "metadata": {},
   "outputs": [
    {
     "name": "stdout",
     "output_type": "stream",
     "text": [
      "Vector discretizado:\n",
      "[(-inf, 32.146], (32.146, 43.813], (-inf, 32.146], (43.813, inf], (-inf, 32.146]]\n",
      "Categories (3, interval[float64, right]): [(-inf, 32.146] < (32.146, 43.813] < (43.813, inf]] \n",
      "\n",
      "Puntos de corte calculados: [32.14634923 43.81301589]\n",
      "Información mutua máxima obtenida: 0.419973094021975\n",
      "------------------------------------------------------------------------------------------------\n",
      "\n",
      "Vector discretizado:\n",
      "[(-inf, 32.667], (32.667, 44.333], (-inf, 32.667], (44.333, inf], (-inf, 32.667]]\n",
      "Categories (3, interval[float64, right]): [(-inf, 32.667] < (32.667, 44.333] < (44.333, inf]] \n",
      "\n",
      "Puntos de corte calculados: [32.66666667 44.33333333]\n",
      "Información mutua máxima obtenida: 0.419973094021975\n",
      "------------------------------------------------------------------------------------------------\n",
      "\n",
      "Vector discretizado:\n",
      "[(-inf, 25.575], (34.325, 43.075], (25.575, 34.325], (43.075, inf], (25.575, 34.325]]\n",
      "Categories (4, interval[float64, right]): [(-inf, 25.575] < (25.575, 34.325] < (34.325, 43.075] < (43.075, inf]] \n",
      "\n",
      "Puntos de corte calculados: [25.57522227 34.32522227 43.07522227]\n",
      "Información mutua máxima obtenida: 0.5709505944546684\n"
     ]
    }
   ],
   "source": [
    "# Discretizamos los atributos en 3 intérvalos. 100 intentos sin aleatoriedad\n",
    "discretized, cut_points, mutinfo = entropy_binning(atributos,etiquetas,num_bins=3,tries=10,random_cut =False)\n",
    "print(\"Vector discretizado:\")\n",
    "print(discretized,\"\\n\")\n",
    "print(\"Puntos de corte calculados:\", cut_points)\n",
    "print(\"Información mutua máxima obtenida:\", mutinfo)\n",
    "\n",
    "print(\"------------------------------------------------------------------------------------------------\")\n",
    "print()\n",
    "\n",
    "# Discretizamos los atributos en 3 intérvalos. 100 intentos sin aleatoriedad y con un offset de 1\n",
    "discretized, cut_points, mutinfo = entropy_binning(atributos,etiquetas,num_bins=3,tries=100,random_cut =False, offset=1)\n",
    "print(\"Vector discretizado:\")\n",
    "print(discretized,\"\\n\")\n",
    "print(\"Puntos de corte calculados:\", cut_points)\n",
    "print(\"Información mutua máxima obtenida:\", mutinfo)\n",
    "\n",
    "print(\"------------------------------------------------------------------------------------------------\")\n",
    "print()\n",
    "\n",
    "# Discretizamos los atributos en 4 intérvalos. 100 intentos sin aleatoriedad\n",
    "discretized, cut_points, mutinfo = entropy_binning(atributos,etiquetas,num_bins=4,tries=100,random_cut =False)\n",
    "print(\"Vector discretizado:\")\n",
    "print(discretized,\"\\n\")\n",
    "print(\"Puntos de corte calculados:\", cut_points)\n",
    "print(\"Información mutua máxima obtenida:\", mutinfo)"
   ]
  },
  {
   "cell_type": "code",
   "execution_count": 25,
   "metadata": {},
   "outputs": [
    {
     "name": "stdout",
     "output_type": "stream",
     "text": [
      "Vector discretizado:\n",
      "[(-inf, 40.486], (40.486, 52.567], (-inf, 40.486], (52.567, inf], (-inf, 40.486]]\n",
      "Categories (3, interval[float64, right]): [(-inf, 40.486] < (40.486, 52.567] < (52.567, inf]] \n",
      "\n",
      "Puntos de corte calculados: [40.4860715  52.56727876]\n",
      "Información mutua máxima obtenida: 0.419973094021975\n",
      "------------------------------------------------------------------------------------------------\n",
      "\n",
      "Vector discretizado:\n",
      "[(-inf, 23.608], (23.608, 54.774], (23.608, 54.774], (55.088, inf], (23.608, 54.774]]\n",
      "Categories (4, interval[float64, right]): [(-inf, 23.608] < (23.608, 54.774] < (54.774, 55.088] < (55.088, inf]] \n",
      "\n",
      "Puntos de corte calculados: [23.60755727 54.77356977 55.08832723]\n",
      "Información mutua máxima obtenida: 0.419973094021975\n",
      "------------------------------------------------------------------------------------------------\n",
      "\n",
      "Vector discretizado:\n",
      "[(-inf, 30.282], (35.543, 56.946], (30.282, 35.543], (56.946, inf], (-inf, 30.282]]\n",
      "Categories (4, interval[float64, right]): [(-inf, 30.282] < (30.282, 35.543] < (35.543, 56.946] < (56.946, inf]] \n",
      "\n",
      "Puntos de corte calculados: [30.28161917 35.5427141  56.94624322]\n",
      "Información mutua máxima obtenida: 0.5709505944546684\n"
     ]
    }
   ],
   "source": [
    "# Discretizamos los atributos en 3 intérvalos. 100 intento con aleatoriedad\n",
    "discretized, cut_points, mutinfo = entropy_binning(atributos,etiquetas,num_bins=3,tries=100,random_cut =True)\n",
    "print(\"Vector discretizado:\")\n",
    "print(discretized,\"\\n\")\n",
    "print(\"Puntos de corte calculados:\", cut_points)\n",
    "print(\"Información mutua máxima obtenida:\", mutinfo)\n",
    "\n",
    "print(\"------------------------------------------------------------------------------------------------\")\n",
    "print()\n",
    "\n",
    "# Discretizamos los atributos en 4 intérvalos. 1 intento con aleatoriedad\n",
    "discretized, cut_points, mutinfo = entropy_binning(atributos,etiquetas,num_bins=4,tries=1,random_cut =True)\n",
    "print(\"Vector discretizado:\")\n",
    "print(discretized,\"\\n\")\n",
    "print(\"Puntos de corte calculados:\", cut_points)\n",
    "print(\"Información mutua máxima obtenida:\", mutinfo)\n",
    "\n",
    "print(\"------------------------------------------------------------------------------------------------\")\n",
    "print()\n",
    "\n",
    "# Discretizamos los atributos en 4 intérvalos. 100 intentos con aleatoriedad\n",
    "discretized, cut_points, mutinfo = entropy_binning(atributos,etiquetas,num_bins=4,tries=100,random_cut =True)\n",
    "print(\"Vector discretizado:\")\n",
    "print(discretized,\"\\n\")\n",
    "print(\"Puntos de corte calculados:\", cut_points)\n",
    "print(\"Información mutua máxima obtenida:\", mutinfo)"
   ]
  },
  {
   "cell_type": "markdown",
   "metadata": {},
   "source": [
    "### Visualización de datos (graphics.py)"
   ]
  },
  {
   "cell_type": "markdown",
   "metadata": {},
   "source": [
    "El paquete también ofrece métodos que sirven para visualizar los datos de un dataset, teniendo en cuenta si las variables son numéricas o categóricas. Dichos métodos se encuentran en el fichero \"graphics.py\". Concretamente, hay 2 funciones implementadas: ***boxplot_dataset*** y ***pieplot***."
   ]
  },
  {
   "cell_type": "markdown",
   "metadata": {},
   "source": [
    "#### boxplot_dataset"
   ]
  },
  {
   "cell_type": "markdown",
   "metadata": {},
   "source": [
    "El objetivo de esta función es visualizar los datos numéricos de un objeto *pd.DataFrame* en un gráfico de tipo boxplot. Por lo tanto, las variables categóricas no se ven representadas. Además, tiene un parámetro boolear adicional llamado *together*, el cual sirve para definir si se quieren visualizar todas las variables en un mismo gráfico o no. Esto puede ser útil si los valores de las columnas tienen escalas diferentes, ya que los datos no se verían muy claros en un mismo diagrama. Veamos unas ejecuciones:"
   ]
  },
  {
   "cell_type": "code",
   "execution_count": 26,
   "metadata": {},
   "outputs": [
    {
     "data": {
      "image/png": "[encoded data removed]",
      "text/plain": [
       "<Figure size 640x480 with 1 Axes>"
      ]
     },
     "metadata": {},
     "output_type": "display_data"
    }
   ],
   "source": [
    "# Visualiza los datos numéricos del dataset df en un único boxplot\n",
    "boxplot_dataset(df,together=True)"
   ]
  },
  {
   "cell_type": "code",
   "execution_count": 27,
   "metadata": {},
   "outputs": [
    {
     "data": {
      "image/png": "[encoded data removed]",
      "text/plain": [
       "<Figure size 640x480 with 1 Axes>"
      ]
     },
     "metadata": {},
     "output_type": "display_data"
    },
    {
     "data": {
      "image/png": "[encoded data removed]",
      "text/plain": [
       "<Figure size 640x480 with 1 Axes>"
      ]
     },
     "metadata": {},
     "output_type": "display_data"
    },
    {
     "data": {
      "image/png": "[encoded data removed]",
      "text/plain": [
       "<Figure size 640x480 with 1 Axes>"
      ]
     },
     "metadata": {},
     "output_type": "display_data"
    }
   ],
   "source": [
    "# Visualiza los datos numéricos del dataset df en distintos boxplot (hay que darle al <Enter> para que salga otro)\n",
    "boxplot_dataset(df,together=False)"
   ]
  },
  {
   "cell_type": "markdown",
   "metadata": {},
   "source": [
    "#### pieplot"
   ]
  },
  {
   "cell_type": "markdown",
   "metadata": {},
   "source": [
    "El funcionamiento de la función ***pieplot*** es muy parecido al anterior. En este caso, dibuja un gráfico de tipo \"pie\" o \"tarta\". Es muy conveniente para visualizar las variables categóricas, ya que se permite ver la frecuencia de cada valor posible. Este método no admite ver los datos en un mismo gráfico. En vez de eso, cada variable se visualiza por separado. Además, como es de costumbre, ofrece la oportunidad de considerar las variables numéricas como si fueran categóricas gracias al parámetro *only_categorical*."
   ]
  },
  {
   "cell_type": "code",
   "execution_count": 28,
   "metadata": {},
   "outputs": [
    {
     "data": {
      "image/png": "[encoded data removed]",
      "text/plain": [
       "<Figure size 640x480 with 1 Axes>"
      ]
     },
     "metadata": {},
     "output_type": "display_data"
    },
    {
     "data": {
      "image/png": "[encoded data removed]",
      "text/plain": [
       "<Figure size 640x480 with 1 Axes>"
      ]
     },
     "metadata": {},
     "output_type": "display_data"
    },
    {
     "data": {
      "image/png": "[encoded data removed]",
      "text/plain": [
       "<Figure size 640x480 with 1 Axes>"
      ]
     },
     "metadata": {},
     "output_type": "display_data"
    }
   ],
   "source": [
    "# Visualiza sólo los datos categóricos del dataset df (hay que presionar <Enter> para cada uno)\n",
    "pieplot(df,only_categorical=True)"
   ]
  },
  {
   "cell_type": "code",
   "execution_count": 29,
   "metadata": {},
   "outputs": [
    {
     "data": {
      "image/png": "[encoded data removed]",
      "text/plain": [
       "<Figure size 640x480 with 1 Axes>"
      ]
     },
     "metadata": {},
     "output_type": "display_data"
    },
    {
     "data": {
      "image/png": "[encoded data removed]",
      "text/plain": [
       "<Figure size 640x480 with 1 Axes>"
      ]
     },
     "metadata": {},
     "output_type": "display_data"
    },
    {
     "data": {
      "image/png": "[encoded data removed]",
      "text/plain": [
       "<Figure size 640x480 with 1 Axes>"
      ]
     },
     "metadata": {},
     "output_type": "display_data"
    },
    {
     "data": {
      "image/png": "[encoded data removed]",
      "text/plain": [
       "<Figure size 640x480 with 1 Axes>"
      ]
     },
     "metadata": {},
     "output_type": "display_data"
    },
    {
     "data": {
      "image/png": "[encoded data removed]",
      "text/plain": [
       "<Figure size 640x480 with 1 Axes>"
      ]
     },
     "metadata": {},
     "output_type": "display_data"
    },
    {
     "data": {
      "image/png": "[encoded data removed]",
      "text/plain": [
       "<Figure size 640x480 with 1 Axes>"
      ]
     },
     "metadata": {},
     "output_type": "display_data"
    }
   ],
   "source": [
    "# Visualiza todas las variables del dataset df en pieplots (hay que presionar <Enter> para cada uno)\n",
    "pieplot(df,only_categorical=False)"
   ]
  },
  {
   "cell_type": "markdown",
   "metadata": {},
   "source": [
    "### Lectura y escritura de datasets (readwritedf.py)"
   ]
  },
  {
   "cell_type": "markdown",
   "metadata": {},
   "source": [
    "Además de las funciones ya comentadas, la librería **gestdata** proporciona métodos que sirven tanto para guardar dataframes en ficheros de distinto formato, como para leer y cargar datasets de ellos. De hecho, la librería define un formato propio que se puede utilizar para manejar los datasets en ficheros. Estas funciones están definidas en el fichero \"readwritedf.py\"."
   ]
  },
  {
   "cell_type": "markdown",
   "metadata": {},
   "source": [
    "#### Lectura y escritura en ficheros CSV"
   ]
  },
  {
   "cell_type": "markdown",
   "metadata": {},
   "source": [
    "El formato estándar que utiliza la librería para guardar y leer datos es CSV (.csv). Proporciona una función distinta para cada tarea: ***dataframe2csv*** para la escritura de un *pd.DataFrame* a un fichero .csv, y ***csv2dataframe*** para la lectura. A continuación se muestran unos ejemplos de ejecución:"
   ]
  },
  {
   "cell_type": "code",
   "execution_count": 30,
   "metadata": {},
   "outputs": [
    {
     "name": "stdout",
     "output_type": "stream",
     "text": [
      "pd.DataFrame original:\n",
      "     Name  Age  Weight  Height   Hair  Independent\n",
      "0    Jon   23      61    1.75   Long         True\n",
      "1   Bill   41      98    1.68  Short        False\n",
      "2  Maria   32      75    1.56   Long         True\n",
      "3    Ben   58     112    1.86  Short         True\n",
      "4   Tina   26      74    1.76   Long        False\n",
      "\n",
      "Contenido del fichero 'prueba.csv':\n",
      "\n",
      ",Name,Age,Weight,Height,Hair,Independent\n",
      "0,Jon,23,61,1.75,Long,True\n",
      "1,Bill,41,98,1.68,Short,False\n",
      "2,Maria,32,75,1.56,Long,True\n",
      "3,Ben,58,112,1.86,Short,True\n",
      "4,Tina,26,74,1.76,Long,False\n",
      "\n",
      "DataFrame reconstruido con la lectura del fichero:\n",
      "\n",
      "    Name Age Weight Height   Hair Independent\n",
      "0    Jon  23     61   1.75   Long        True\n",
      "1   Bill  41     98   1.68  Short       False\n",
      "2  Maria  32     75   1.56   Long        True\n",
      "3    Ben  58    112   1.86  Short        True\n",
      "4   Tina  26     74   1.76   Long       False\n"
     ]
    }
   ],
   "source": [
    "import os\n",
    "\n",
    "print(\"pd.DataFrame original:\\n\", df)\n",
    "print()\n",
    "\n",
    "# Escribimos el dataframe al fichero llamado \"prueba.csv\"\n",
    "dataframe2csv(df,file_path=\"prueba.csv\")\n",
    "\n",
    "# Veamos en que formato lo ha escrito\n",
    "print(\"Contenido del fichero 'prueba.csv':\\n\")\n",
    "with open(\"prueba.csv\", \"r\", newline=\"\") as f:\n",
    "    for line in f.readlines():\n",
    "        print(line[:-1])\n",
    "\n",
    "print()\n",
    "print(\"DataFrame reconstruido con la lectura del fichero:\\n\")\n",
    "# Recuperamos el dataframe leyendo el fichero llamado \"prueba.csv\"\n",
    "print(csv2dataframe(file_path=\"prueba.csv\"))\n",
    "\n",
    "os.remove(\"prueba.csv\")\n",
    "    "
   ]
  },
  {
   "cell_type": "code",
   "execution_count": 31,
   "metadata": {},
   "outputs": [
    {
     "name": "stdout",
     "output_type": "stream",
     "text": [
      "\n",
      "Error:\n",
      "Sólo se admiten pd.DataFrames para guardar\n",
      "\n",
      "Error:\n",
      "El fichero no es de tipo .csv\n"
     ]
    }
   ],
   "source": [
    "# Algunos ejemplos de mal uso:\n",
    "\n",
    "# Que ocurre si le pasamos una entrada de otro tipo?\n",
    "try:\n",
    "    dataframe2csv(a,file_path=\"prueba.csv\")\n",
    "except Exception as e:\n",
    "    print(\"\\nError:\")\n",
    "    print(e)\n",
    "\n",
    "# Que ocurre si le pedimos que lo escriba en un fichero que no sea .csv?\n",
    "try:\n",
    "    dataframe2csv(a,file_path=\"prueba.txt\")\n",
    "except Exception as e:\n",
    "    print(\"\\nError:\")\n",
    "    print(e)\n"
   ]
  },
  {
   "cell_type": "markdown",
   "metadata": {},
   "source": [
    "#### Lectura y escritura en ficheros en formato propio"
   ]
  },
  {
   "cell_type": "markdown",
   "metadata": {},
   "source": [
    "Además del formato CSV, el paquete **gestdata** trae un formato propio para la escritura y lectura de los dataset. Igual que en el caso anterior, ofrece 2 funciones para este formato; uno para cada tarea: ***write_dataframe*** para la escritura de un *pd.DataFrame* a un fichero, y ***read_dataframe*** para la lectura. Además, ofrecen la opción de darle un nombre al dataset. Esto se hace usando una lista de 2 elementos como parámetro. A continuación se proveen unos ejemplos. Si se quiere saber el formato concreto que utiliza para guardar los dataset, está especificado en la documentación de la función ***write_dataframe***."
   ]
  },
  {
   "cell_type": "code",
   "execution_count": 32,
   "metadata": {},
   "outputs": [
    {
     "name": "stdout",
     "output_type": "stream",
     "text": [
      "pd.DataFrame original:\n",
      "     Name  Age  Weight  Height   Hair  Independent\n",
      "0    Jon   23      61    1.75   Long         True\n",
      "1   Bill   41      98    1.68  Short        False\n",
      "2  Maria   32      75    1.56   Long         True\n",
      "3    Ben   58     112    1.86  Short         True\n",
      "4   Tina   26      74    1.76   Long        False\n",
      "\n",
      "Contenido del fichero 'prueba.txt':\n",
      "\n",
      "5,6\n",
      "#Rownames: 0,1,2,3,4\n",
      "#Colnames: Name,Age,Weight,Height,Hair,Independent\n",
      "Jon,Bill,Maria,Ben,Tina\n",
      "23,41,32,58,26\n",
      "61,98,75,112,74\n",
      "1.75,1.68,1.56,1.86,1.76\n",
      "Long,Short,Long,Short,Long\n",
      "True,False,True,True,False\n",
      "\n",
      "DataFrame reconstruido con la lectura del fichero:\n",
      "\n",
      "    Name Age Weight Height   Hair Independent\n",
      "0    Jon  23     61   1.75   Long        True\n",
      "1   Bill  41     98   1.68  Short       False\n",
      "2  Maria  32     75   1.56   Long        True\n",
      "3    Ben  58    112   1.86  Short        True\n",
      "4   Tina  26     74   1.76   Long       False\n"
     ]
    }
   ],
   "source": [
    "import os\n",
    "\n",
    "print(\"pd.DataFrame original:\\n\", df)\n",
    "print()\n",
    "\n",
    "# Escribimos el dataframe al fichero llamado \"prueba.txt\"\n",
    "write_dataframe(df,file_path=\"prueba.txt\")\n",
    "\n",
    "# Veamos en que formato lo ha escrito\n",
    "print(\"Contenido del fichero 'prueba.txt':\\n\")\n",
    "with open(\"prueba.txt\", \"r\") as f:\n",
    "    for line in f.readlines():\n",
    "        print(line[:-1] if line[-1]==\"\\n\" else line)\n",
    "\n",
    "print()\n",
    "print(\"DataFrame reconstruido con la lectura del fichero:\\n\")\n",
    "# Recuperamos el dataframe leyendo el fichero llamado \"prueba.txt\"\n",
    "print(read_dataframe(file_path=\"prueba.txt\"))\n",
    "\n",
    "os.remove(\"prueba.txt\")\n",
    "    "
   ]
  },
  {
   "cell_type": "code",
   "execution_count": 33,
   "metadata": {},
   "outputs": [
    {
     "name": "stdout",
     "output_type": "stream",
     "text": [
      "Contenido del fichero 'prueba.txt':\n",
      "\n",
      "5,6,ElDataset\n",
      "#Rownames: 0,1,2,3,4\n",
      "#Colnames: Name,Age,Weight,Height,Hair,Independent\n",
      "Jon,Bill,Maria,Ben,Tina\n",
      "23,41,32,58,26\n",
      "61,98,75,112,74\n",
      "1.75,1.68,1.56,1.86,1.76\n",
      "Long,Short,Long,Short,Long\n",
      "True,False,True,True,False\n",
      "\n",
      "DataFrame y su nombre reconstruidos con la lectura del fichero:\n",
      "\n",
      "['ElDataset',     Name Age Weight Height   Hair Independent\n",
      "0    Jon  23     61   1.75   Long        True\n",
      "1   Bill  41     98   1.68  Short       False\n",
      "2  Maria  32     75   1.56   Long        True\n",
      "3    Ben  58    112   1.86  Short        True\n",
      "4   Tina  26     74   1.76   Long       False]\n"
     ]
    }
   ],
   "source": [
    "# Ahora hacemos unas ejecuciones poniendole un nombre al dataset\n",
    "import os\n",
    "\n",
    "# Escribimos el dataframe y el nombre 'ElDataset' al fichero llamado \"prueba.txt\"\n",
    "write_dataframe([\"ElDataset\",df],file_path=\"prueba.txt\")\n",
    "\n",
    "# Veamos en que formato lo ha escrito\n",
    "print(\"Contenido del fichero 'prueba.txt':\\n\")\n",
    "with open(\"prueba.txt\", \"r\") as f:\n",
    "    for line in f.readlines():\n",
    "        print(line[:-1] if line[-1]==\"\\n\" else line)\n",
    "\n",
    "print()\n",
    "print(\"DataFrame y su nombre reconstruidos con la lectura del fichero:\\n\")\n",
    "# Recuperamos el nombre y el dataframe leyendo el fichero llamado \"prueba.txt\"\n",
    "print(read_dataframe(file_path=\"prueba.txt\"))\n",
    "\n",
    "os.remove(\"prueba.txt\")"
   ]
  },
  {
   "cell_type": "code",
   "execution_count": 34,
   "metadata": {},
   "outputs": [
    {
     "name": "stdout",
     "output_type": "stream",
     "text": [
      "\n",
      "Error:\n",
      "Sólo se admiten pd.DataFrames para guardar\n",
      "\n",
      "Error:\n",
      "Sólo se admiten pd.DataFrames para guardar\n",
      "\n",
      "Error:\n",
      "El primer elemento de la lista debe ser un string\n",
      "\n",
      "Error:\n",
      "Alguna dimensión de x es 0\n"
     ]
    }
   ],
   "source": [
    "# Algunos ejemplos de mal uso:\n",
    "\n",
    "# Que ocurre si le pasamos una entrada de otro tipo?\n",
    "try:\n",
    "    write_dataframe([\"ElDataset\",a],file_path=\"prueba.txt\")\n",
    "except Exception as e:\n",
    "    print(\"\\nError:\")\n",
    "    print(e)\n",
    "\n",
    "# Que ocurre si le pasamos una entrada de otro tipo?\n",
    "try:\n",
    "    write_dataframe(\"hola\",file_path=\"prueba.txt\")\n",
    "except Exception as e:\n",
    "    print(\"\\nError:\")\n",
    "    print(e)\n",
    "\n",
    "# Que ocurre si le pasamos la entrada en otro orden?\n",
    "try:\n",
    "    write_dataframe([df,\"ElDataset\"],file_path=\"prueba.txt\")\n",
    "except Exception as e:\n",
    "    print(\"\\nError:\")\n",
    "    print(e)\n",
    "\n",
    "# Que ocurre si le pasamos un dataframe vacío?\n",
    "try:\n",
    "    write_dataframe(pd.DataFrame(),file_path=\"prueba.txt\")\n",
    "except Exception as e:\n",
    "    print(\"\\nError:\")\n",
    "    print(e)"
   ]
  },
  {
   "cell_type": "markdown",
   "metadata": {},
   "source": [
    "### Clase Dataset (dataset.py)"
   ]
  },
  {
   "cell_type": "markdown",
   "metadata": {},
   "source": [
    "El paquete **gestdata** no ofrece únicamente funciones, si no que también implementa una clase personalizada para el manejo de un dataset. Esta clase se llama ***Dataset***, y se encuentra en el fichero *dataset.py*. En cuanto a la estructuración y el acceso a los datos, es parecido a un *pd.DataFrame*. Esta clase implementa varias funciones que sirven para añadir, quitar e indexar datos. A continuación se muestra el funcionamiento de esta clase:"
   ]
  },
  {
   "cell_type": "code",
   "execution_count": 35,
   "metadata": {},
   "outputs": [
    {
     "name": "stdout",
     "output_type": "stream",
     "text": [
      "Dataset of shape: [0, 0]\n",
      "Data by columns:\n"
     ]
    }
   ],
   "source": [
    "# Creamos un objeto de tipo Dataset\n",
    "dataset = Dataset()\n",
    "\n",
    "# Al principio está vacío, sin ningún dato\n",
    "print(dataset)"
   ]
  },
  {
   "cell_type": "markdown",
   "metadata": {},
   "source": [
    "Añadimos una fila de datos con la función ***add_row***. El parámetro tiene que ser una *Python list*."
   ]
  },
  {
   "cell_type": "code",
   "execution_count": 36,
   "metadata": {},
   "outputs": [
    {
     "name": "stdout",
     "output_type": "stream",
     "text": [
      "Dataset of shape: [1, 3]\n",
      "Data by columns:\n",
      " V0 = Jon , dtype =  str\n",
      " V1 = 23 , dtype =  int\n",
      " V2 = 61 , dtype =  int\n"
     ]
    }
   ],
   "source": [
    "dataset.add_row([\"Jon\",23,61])\n",
    "print(dataset)"
   ]
  },
  {
   "cell_type": "markdown",
   "metadata": {},
   "source": [
    "***add_row*** ha hecho que las dimensiones del *Dataset* sean (1,3), ya que hemos añadido una fila de 3 valores. Por tanto, se han creado 3 columnas, y la clase *Dataset* les ha dado un nombre por defecto: V1,V2 y V3. Además, nos dice de que tipo son los valores de cada columna. Estos tipos hay que respetarlos, ya que la clase *Dataset* tiene la restricción de que todos los valores de una columna tienen que tener el mismo tipo."
   ]
  },
  {
   "cell_type": "markdown",
   "metadata": {},
   "source": [
    "En vez de ir añadiendo filas uno por uno, podemos utilizar la función ***add_rows*** para añadir cualquier número de filas a la vez. Por tanto, el parámetro esta vez tendrá que ser una lista de filas (lista de listas)."
   ]
  },
  {
   "cell_type": "code",
   "execution_count": 37,
   "metadata": {},
   "outputs": [
    {
     "name": "stdout",
     "output_type": "stream",
     "text": [
      "Dataset of shape: [4, 3]\n",
      "Data by columns:\n",
      " V0 = ['Jon' 'Bill' 'Maria' 'Ben'] , dtype =  str\n",
      " V1 = [23 41 32 58] , dtype =  int\n",
      " V2 = [ 61  98  75 112] , dtype =  int\n"
     ]
    }
   ],
   "source": [
    "dataset.add_rows([[\"Bill\",41,98],[\"Maria\",32,75],[\"Ben\",58,112]])\n",
    "print(dataset)"
   ]
  },
  {
   "cell_type": "markdown",
   "metadata": {},
   "source": [
    "Pero si no respetamos el tipo que se le ha establecido a cada columna, nos dará un error personalizado:"
   ]
  },
  {
   "cell_type": "code",
   "execution_count": 38,
   "metadata": {},
   "outputs": [
    {
     "name": "stdout",
     "output_type": "stream",
     "text": [
      "\n",
      "Error:\n",
      "El valor para la columna V0 tiene que ser de tipo str\n"
     ]
    }
   ],
   "source": [
    "try:\n",
    "    dataset.add_row([10,\"Jose\",5])\n",
    "except Exception as e:\n",
    "    print(\"\\nError:\")\n",
    "    print(e)"
   ]
  },
  {
   "cell_type": "markdown",
   "metadata": {},
   "source": [
    "Igual que se pueden agregar filas, ofrece la posibilidad de añadir columnas mediante 2 funciones: ***add_col*** y ***add_cols***. Hay que tener en cuenta que todos los valores de la columna tienen que tener el mismo tipo, y la columna tiene que tener la misma longitud que las que ya están en el *Dataset*. Aparte de eso, los métodos aceptan un parámetro extra para definir los nombres que recibirán las columnas."
   ]
  },
  {
   "cell_type": "code",
   "execution_count": 39,
   "metadata": {},
   "outputs": [
    {
     "name": "stdout",
     "output_type": "stream",
     "text": [
      "Dataset of shape: [4, 4]\n",
      "Data by columns:\n",
      " V0 = ['Jon' 'Bill' 'Maria' 'Ben'] , dtype =  str\n",
      " V1 = [23 41 32 58] , dtype =  int\n",
      " V2 = [ 61  98  75 112] , dtype =  int\n",
      " Height = [1.75 1.68 1.56 1.86] , dtype =  float\n"
     ]
    }
   ],
   "source": [
    "dataset.add_col([1.75,1.68,1.56,1.86], name=\"Height\")\n",
    "print(dataset)"
   ]
  },
  {
   "cell_type": "code",
   "execution_count": 40,
   "metadata": {},
   "outputs": [
    {
     "name": "stdout",
     "output_type": "stream",
     "text": [
      "Dataset of shape: [4, 6]\n",
      "Data by columns:\n",
      " V0 = ['Jon' 'Bill' 'Maria' 'Ben'] , dtype =  str\n",
      " V1 = [23 41 32 58] , dtype =  int\n",
      " V2 = [ 61  98  75 112] , dtype =  int\n",
      " Height = [1.75 1.68 1.56 1.86] , dtype =  float\n",
      " Hair = ['Long' 'Short' 'Long' 'Short'] , dtype =  str\n",
      " Independent = [ True False  True  True] , dtype =  bool\n"
     ]
    }
   ],
   "source": [
    "dataset.add_cols([[\"Long\",\"Short\",\"Long\",\"Short\"],[True,False,True,True]], names=[\"Hair\",\"Independent\"])\n",
    "print(dataset)"
   ]
  },
  {
   "cell_type": "markdown",
   "metadata": {},
   "source": [
    "Veamos algunos ejemplos de errores personalizados:"
   ]
  },
  {
   "cell_type": "code",
   "execution_count": 41,
   "metadata": {},
   "outputs": [
    {
     "name": "stdout",
     "output_type": "stream",
     "text": [
      "\n",
      "Error:\n",
      "Todos los valores de data tienen que ser del mismo tipo\n",
      "\n",
      "Error:\n",
      "La columna tiene que tener 4 valores\n",
      "\n",
      "Error:\n",
      "El parámetro data tiene que ser una Python list\n",
      "\n",
      "Error:\n",
      "Sólo se admiten valores de tipo: [<class 'int'>, <class 'float'>, <class 'bool'>, <class 'str'>]\n"
     ]
    }
   ],
   "source": [
    "try:\n",
    "    dataset.add_col([10,\"Jose\",25,24])\n",
    "except Exception as e:\n",
    "    print(\"\\nError:\")\n",
    "    print(e)\n",
    "\n",
    "try:\n",
    "    dataset.add_col([10,1,3])\n",
    "except Exception as e:\n",
    "    print(\"\\nError:\")\n",
    "    print(e)\n",
    "\n",
    "try:\n",
    "    dataset.add_col(\"hola\")\n",
    "except Exception as e:\n",
    "    print(\"\\nError:\")\n",
    "    print(e)\n",
    "\n",
    "try:\n",
    "    dataset.add_col([Dataset(),Dataset(),Dataset(),Dataset()])\n",
    "except Exception as e:\n",
    "    print(\"\\nError:\")\n",
    "    print(e)"
   ]
  },
  {
   "cell_type": "markdown",
   "metadata": {},
   "source": [
    "El último error es más especial, ya que, como indica, la clase *Dataset* solo admite 4 tipos de valores entre sus datos: *integer*, *float*, *boolean* y *string*. Si se intenta agregar un valor de un tipo que no se encuentre en esa lista, no será admitido."
   ]
  },
  {
   "cell_type": "markdown",
   "metadata": {},
   "source": [
    "Hasta ahora sólo hemos estado añadiendo filas y columnas. Por tanto, es necesario que haya funciones para quitar datos del *Dataset*. Esto se hace mediante las funciones ***remove_row***, ***remove_rows***, ***remove_col*** y ***remove_cols***. Los nombres son suficientemente explicativos. En esta ocasión, las funciones necesitan recibir índices (*integer*) para saber que fila(s) o columna(s) hay que quitar. En el caso de las columnas, también se admiten índices de tipo *string* que correspondan con los nombres de las variables. Abajo se muestran unos ejemplos de uso:"
   ]
  },
  {
   "cell_type": "code",
   "execution_count": 42,
   "metadata": {},
   "outputs": [
    {
     "name": "stdout",
     "output_type": "stream",
     "text": [
      "Datos originales:\n",
      "\n",
      "Dataset of shape: [4, 6]\n",
      "Data by columns:\n",
      " V0 = ['Jon' 'Bill' 'Maria' 'Ben'] , dtype =  str\n",
      " V1 = [23 41 32 58] , dtype =  int\n",
      " V2 = [ 61  98  75 112] , dtype =  int\n",
      " Height = [1.75 1.68 1.56 1.86] , dtype =  float\n",
      " Hair = ['Long' 'Short' 'Long' 'Short'] , dtype =  str\n",
      " Independent = [ True False  True  True] , dtype =  bool\n"
     ]
    }
   ],
   "source": [
    "# Copiamos el dataset que hemos construido para no perder los datos\n",
    "import copy\n",
    "\n",
    "dataset2 = copy.deepcopy(dataset)\n",
    "\n",
    "print(\"Datos originales:\\n\")\n",
    "print(dataset2)"
   ]
  },
  {
   "cell_type": "code",
   "execution_count": 43,
   "metadata": {},
   "outputs": [
    {
     "name": "stdout",
     "output_type": "stream",
     "text": [
      "Dataset of shape: [3, 6]\n",
      "Data by columns:\n",
      " V0 = ['Bill' 'Maria' 'Ben'] , dtype =  str\n",
      " V1 = [41 32 58] , dtype =  int\n",
      " V2 = [ 98  75 112] , dtype =  int\n",
      " Height = [1.68 1.56 1.86] , dtype =  float\n",
      " Hair = ['Short' 'Long' 'Short'] , dtype =  str\n",
      " Independent = [False  True  True] , dtype =  bool\n"
     ]
    }
   ],
   "source": [
    "# Quitamos la primera fila\n",
    "dataset2.remove_row(0)\n",
    "print(dataset2)"
   ]
  },
  {
   "cell_type": "code",
   "execution_count": 44,
   "metadata": {},
   "outputs": [
    {
     "name": "stdout",
     "output_type": "stream",
     "text": [
      "Dataset of shape: [1, 6]\n",
      "Data by columns:\n",
      " V0 = ['Bill'] , dtype =  str\n",
      " V1 = [41] , dtype =  int\n",
      " V2 = [98] , dtype =  int\n",
      " Height = [1.68] , dtype =  float\n",
      " Hair = ['Short'] , dtype =  str\n",
      " Independent = [False] , dtype =  bool\n"
     ]
    }
   ],
   "source": [
    "# Quitamos las 2 últimas filas\n",
    "dataset2.remove_rows([-1,-2])\n",
    "print(dataset2)"
   ]
  },
  {
   "cell_type": "code",
   "execution_count": 45,
   "metadata": {},
   "outputs": [
    {
     "name": "stdout",
     "output_type": "stream",
     "text": [
      "Dataset of shape: [1, 5]\n",
      "Data by columns:\n",
      " V0 = ['Bill'] , dtype =  str\n",
      " V2 = [98] , dtype =  int\n",
      " Height = [1.68] , dtype =  float\n",
      " Hair = ['Short'] , dtype =  str\n",
      " Independent = [False] , dtype =  bool\n"
     ]
    }
   ],
   "source": [
    "# Quitamos la segunda columna utilizando el índice\n",
    "dataset2.remove_col(1)\n",
    "print(dataset2)"
   ]
  },
  {
   "cell_type": "code",
   "execution_count": 46,
   "metadata": {},
   "outputs": [
    {
     "name": "stdout",
     "output_type": "stream",
     "text": [
      "Dataset of shape: [1, 2]\n",
      "Data by columns:\n",
      " V2 = [98] , dtype =  int\n",
      " Hair = ['Short'] , dtype =  str\n"
     ]
    }
   ],
   "source": [
    "# Quitamos varias columnas utilizando los nombres e índices\n",
    "dataset2.remove_cols([\"V0\",2,\"Independent\"])\n",
    "print(dataset2)"
   ]
  },
  {
   "cell_type": "markdown",
   "metadata": {},
   "source": [
    "Además, la clase tiene implementada la función \\_\\_len\\_\\_, lo que permite llamar a len() y conseguir el número de variables que tiene el objeto *Dataset*."
   ]
  },
  {
   "cell_type": "code",
   "execution_count": 47,
   "metadata": {},
   "outputs": [
    {
     "name": "stdout",
     "output_type": "stream",
     "text": [
      "6\n",
      "2\n"
     ]
    }
   ],
   "source": [
    "print(len(dataset))\n",
    "print(len(dataset2))"
   ]
  },
  {
   "cell_type": "markdown",
   "metadata": {},
   "source": [
    "Si eso fuera poco, podemos nombrar las columnas del dataset a nuestro antojo. Esto se puede hacer gracias a la función ***rename_cols***. Este recibe una lista con los nuevos nombres de todas las columnas."
   ]
  },
  {
   "cell_type": "code",
   "execution_count": 48,
   "metadata": {},
   "outputs": [
    {
     "name": "stdout",
     "output_type": "stream",
     "text": [
      "Datos originales:\n",
      "\n",
      "Dataset of shape: [4, 6]\n",
      "Data by columns:\n",
      " V0 = ['Jon' 'Bill' 'Maria' 'Ben'] , dtype =  str\n",
      " V1 = [23 41 32 58] , dtype =  int\n",
      " V2 = [ 61  98  75 112] , dtype =  int\n",
      " Height = [1.75 1.68 1.56 1.86] , dtype =  float\n",
      " Hair = ['Long' 'Short' 'Long' 'Short'] , dtype =  str\n",
      " Independent = [ True False  True  True] , dtype =  bool\n",
      "\n",
      "Datos con los nombres cambiados:\n",
      "\n",
      "Dataset of shape: [4, 6]\n",
      "Data by columns:\n",
      " Name = ['Jon' 'Bill' 'Maria' 'Ben'] , dtype =  str\n",
      " Age = [23 41 32 58] , dtype =  int\n",
      " Weight = [ 61  98  75 112] , dtype =  int\n",
      " Height = [1.75 1.68 1.56 1.86] , dtype =  float\n",
      " Hair = ['Long' 'Short' 'Long' 'Short'] , dtype =  str\n",
      " Independent = [ True False  True  True] , dtype =  bool\n"
     ]
    }
   ],
   "source": [
    "print(\"Datos originales:\\n\")\n",
    "print(dataset)\n",
    "print()\n",
    "\n",
    "# Cambiamos los nombres de las columnas:\n",
    "dataset.rename_cols([\"Name\",\"Age\",\"Weight\"] + dataset.colnames[3:])\n",
    "\n",
    "print(\"Datos con los nombres cambiados:\\n\")\n",
    "print(dataset)\n"
   ]
  },
  {
   "cell_type": "markdown",
   "metadata": {},
   "source": [
    "Para ir acabando, se quiere mostrar la indexación de un objeto de tipo *Dataset*. Debido a que la clase tiene implementada el método \\_\\_get\\_\\_, los objetos de tipo *Dataset* se pueden indexar mediante corchetes *[ ]*. Además, admite hasta 2 valores dentro de los corchetes: el primero sirve para indexar las columnas y el segundo para las filas. De hecho, el primer índice puede ser un *string* o un *integer*. Las indexaciones por nombre se hacen en tiempo O(1) gracias al uso de un diccionario interno."
   ]
  },
  {
   "cell_type": "code",
   "execution_count": 49,
   "metadata": {},
   "outputs": [
    {
     "name": "stdout",
     "output_type": "stream",
     "text": [
      "Datos originales:\n",
      "\n",
      "Dataset of shape: [4, 6]\n",
      "Data by columns:\n",
      " Name = ['Jon' 'Bill' 'Maria' 'Ben'] , dtype =  str\n",
      " Age = [23 41 32 58] , dtype =  int\n",
      " Weight = [ 61  98  75 112] , dtype =  int\n",
      " Height = [1.75 1.68 1.56 1.86] , dtype =  float\n",
      " Hair = ['Long' 'Short' 'Long' 'Short'] , dtype =  str\n",
      " Independent = [ True False  True  True] , dtype =  bool\n",
      "\n",
      "1: Indexamos la segunda columna (Age) mediante un índice numérico\n",
      "[23, 41, 32, 58]\n",
      "\n",
      "2: Indexamos la segunda columna (Age) mediante el nombre\n",
      "[23, 41, 32, 58]\n",
      "\n",
      "3: Indexamos el último elemento de la primera columna:\n",
      "Ben\n",
      "\n"
     ]
    }
   ],
   "source": [
    "print(\"Datos originales:\\n\")\n",
    "print(dataset)\n",
    "print()\n",
    "\n",
    "print(\"1: Indexamos la segunda columna (Age) mediante un índice numérico\")\n",
    "print(dataset[1])\n",
    "print()\n",
    "\n",
    "print(\"2: Indexamos la segunda columna (Age) mediante el nombre\")\n",
    "print(dataset[\"Age\"])\n",
    "print()\n",
    "\n",
    "print(\"3: Indexamos el último elemento de la primera columna:\")\n",
    "print(dataset[0,-1])\n",
    "print()\n"
   ]
  },
  {
   "cell_type": "markdown",
   "metadata": {},
   "source": [
    "Si eso fuera poco, la clase *Dataset* admite la indexación vía *slicing*. Esto permite acceder a varias columnas o filas a la vez de una manera más compleja. De hecho, si el output es multidimensional, devolverá otro objeto de tipo *Dataset* con los datos solicitados:"
   ]
  },
  {
   "cell_type": "code",
   "execution_count": 50,
   "metadata": {},
   "outputs": [
    {
     "name": "stdout",
     "output_type": "stream",
     "text": [
      "4: Indexamos las 2 filas del medio y todas las columnas:\n",
      "Dataset of shape: [2, 6]\n",
      "Data by columns:\n",
      " Name = ['Bill' 'Maria'] , dtype =  str\n",
      " Age = [41 32] , dtype =  int\n",
      " Weight = [98 75] , dtype =  int\n",
      " Height = [1.68 1.56] , dtype =  float\n",
      " Hair = ['Short' 'Long'] , dtype =  str\n",
      " Independent = [False  True] , dtype =  bool\n",
      "\n",
      "5: Indexamos las columnas de índice par:\n",
      "Dataset of shape: [4, 3]\n",
      "Data by columns:\n",
      " Name = ['Jon' 'Bill' 'Maria' 'Ben'] , dtype =  str\n",
      " Weight = [ 61  98  75 112] , dtype =  int\n",
      " Hair = ['Long' 'Short' 'Long' 'Short'] , dtype =  str\n",
      "\n",
      "6: Indexamos las 2 últimas filas de la columna 'Independent': [True, True]\n",
      "\n",
      "7: Creamos una copia del Dataset indexando todos los elementos:\n",
      "Dataset of shape: [4, 6]\n",
      "Data by columns:\n",
      " Name = ['Jon' 'Bill' 'Maria' 'Ben'] , dtype =  str\n",
      " Age = [23 41 32 58] , dtype =  int\n",
      " Weight = [ 61  98  75 112] , dtype =  int\n",
      " Height = [1.75 1.68 1.56 1.86] , dtype =  float\n",
      " Hair = ['Long' 'Short' 'Long' 'Short'] , dtype =  str\n",
      " Independent = [ True False  True  True] , dtype =  bool\n",
      "\n"
     ]
    }
   ],
   "source": [
    "print(\"4: Indexamos las 2 filas del medio y todas las columnas:\")\n",
    "print(dataset[:,1:3])\n",
    "print()\n",
    "\n",
    "print(\"5: Indexamos las columnas de índice par:\")\n",
    "print(dataset[::2])\n",
    "print()\n",
    "\n",
    "print(\"6: Indexamos las 2 últimas filas de la columna 'Independent':\", dataset[\"Independent\",-2:0])\n",
    "print()\n",
    "\n",
    "print(\"7: Creamos una copia del Dataset indexando todos los elementos:\")\n",
    "print(dataset[:,:])\n",
    "print()\n",
    "\n"
   ]
  },
  {
   "cell_type": "markdown",
   "metadata": {},
   "source": [
    "Para terminar, la clase ofrece 2 funciones para la conversión de objetos tipo *pd.DataFrame*. La primera función, ***from_dataframe***, se puede utilizar para convertir un *pd.DataFrame* a un *Dataset* propio. Debido a que el método está definido dentro de la clase, requiere la instanciación de un *Dataset* antes de poder utilizarlo. Además, se puede utilizar para agregar las variables de un *pd.DataFrame* a un *Dataset* no vacío, siempre que se respeten las restricciones. El segundo método es ***to_dataframe***, el cual devuelve un *pd.DataFrame* con los mismos datos de un objeto *Dataset*. El empleo de estas funciones no tiene mucho misterio:"
   ]
  },
  {
   "cell_type": "code",
   "execution_count": 51,
   "metadata": {},
   "outputs": [
    {
     "name": "stdout",
     "output_type": "stream",
     "text": [
      "Dataset convertido a pd.DataFrame:\n",
      "\n",
      "    Name  Age  Weight  Height   Hair  Independent\n",
      "0    Jon   23      61    1.75   Long         True\n",
      "1   Bill   41      98    1.68  Short        False\n",
      "2  Maria   32      75    1.56   Long         True\n",
      "3    Ben   58     112    1.86  Short         True\n",
      "-------------------------------------------------------\n",
      "\n",
      "pd.DataFrame reconvertido a Dataset:\n",
      "\n",
      "Dataset of shape: [4, 6]\n",
      "Data by columns:\n",
      " Name = ['Jon' 'Bill' 'Maria' 'Ben'] , dtype =  str\n",
      " Age = [23 41 32 58] , dtype =  int\n",
      " Weight = [ 61  98  75 112] , dtype =  int\n",
      " Height = [1.75 1.68 1.56 1.86] , dtype =  float\n",
      " Hair = ['Long' 'Short' 'Long' 'Short'] , dtype =  str\n",
      " Independent = [ True False  True  True] , dtype =  bool\n"
     ]
    }
   ],
   "source": [
    "# Convertimos el Dataset en un pd.DataFrame\n",
    "print(\"Dataset convertido a pd.DataFrame:\\n\")\n",
    "pd_dataframe = dataset.to_dataframe()\n",
    "print(pd_dataframe)\n",
    "print(\"-------------------------------------------------------\")\n",
    "print()\n",
    "\n",
    "# Reconvertimos el pd.DataFrame en un Dataset\n",
    "print(\"pd.DataFrame reconvertido a Dataset:\\n\")\n",
    "converted_dataset = Dataset()\n",
    "converted_dataset.from_dataframe(pd_dataframe)\n",
    "print(converted_dataset)"
   ]
  },
  {
   "cell_type": "markdown",
   "metadata": {},
   "source": [
    "### Funciones extra"
   ]
  },
  {
   "cell_type": "markdown",
   "metadata": {},
   "source": [
    "En esta última sección se presentan unas funciones adicionales que se implementan en el paquete **gestdata** y que pueden ser útiles para la gestión de datasets y de datos de Machine Learning. Concretamente, se encuentran en el fichero \"extras.py\"."
   ]
  },
  {
   "cell_type": "markdown",
   "metadata": {},
   "source": [
    "#### is_binary"
   ]
  },
  {
   "cell_type": "markdown",
   "metadata": {},
   "source": [
    "La función ***is_binary*** sirve para saber si un vector contiene datos binarios o no. Los valores binarios se consideran {0,1,False,True}. Por tanto, el output del método será *True* si todos los valores del vector están en ese grupo, y *False* en el caso contrario. Puede ser útil para saber si una variable tiene los datos correctos como para ser una variable objetivo de etiquetas. El funcionamiento es muy simple de entender:"
   ]
  },
  {
   "cell_type": "code",
   "execution_count": 52,
   "metadata": {},
   "outputs": [
    {
     "name": "stdout",
     "output_type": "stream",
     "text": [
      "Vector a revisar: [3.5 7.4 1.2 2.  3.9 5.3 6.1 6.9]\n",
      "Es binario el vector?  False\n",
      "\n",
      "Vector a revisar: ['Jon' 'Bill' 'Maria' 'Ben' 'Tina']\n",
      "Es binario el vector?  False\n",
      "\n",
      "Vector a revisar: ['False' 'True' 'True']\n",
      "Es binario el vector?  False\n",
      "\n",
      "Vector a revisar: [ True False  True  True False]\n",
      "Es binario el vector?  True\n",
      "\n",
      "Vector a revisar: [1 1 1 1 1]\n",
      "Es binario el vector?  True\n",
      "\n",
      "Vector a revisar: [1 0 1 0 0 0 1 0 1 0]\n",
      "Es binario el vector?  True\n"
     ]
    }
   ],
   "source": [
    "print(\"Vector a revisar:\",a)\n",
    "output = is_binary(a)\n",
    "print(\"Es binario el vector? \", output)\n",
    "\n",
    "print()\n",
    "vec = np.array(df[\"Name\"])\n",
    "print(\"Vector a revisar:\",vec)\n",
    "output = is_binary(vec)\n",
    "print(\"Es binario el vector? \", output)\n",
    "\n",
    "print()\n",
    "vec = np.array([\"False\",\"True\",\"True\"])\n",
    "print(\"Vector a revisar:\",vec)\n",
    "output = is_binary(vec)\n",
    "print(\"Es binario el vector? \", output)\n",
    "\n",
    "print()\n",
    "vec = np.array(df[\"Independent\"])\n",
    "print(\"Vector a revisar:\",vec)\n",
    "output = is_binary(vec)\n",
    "print(\"Es binario el vector? \", output)\n",
    "\n",
    "print()\n",
    "vec = np.array([1,1,1,1,1])\n",
    "print(\"Vector a revisar:\",vec)\n",
    "output = is_binary(vec)\n",
    "print(\"Es binario el vector? \", output)\n",
    "\n",
    "print()\n",
    "vec = np.array([1,0,1,0,0,0,1,0,1,0])\n",
    "print(\"Vector a revisar:\",vec)\n",
    "output = is_binary(vec)\n",
    "print(\"Es binario el vector? \", output)"
   ]
  },
  {
   "cell_type": "markdown",
   "metadata": {},
   "source": [
    "#### conditional_entropy"
   ]
  },
  {
   "cell_type": "markdown",
   "metadata": {},
   "source": [
    "El método ***conditional_entropy***, tal como indica su nombre, sirve para calcular la entropía condicional entre 2 vectores. De hecho, sólo necesita 2 parámetros para funcionar: el primer vector (condicionado) y el segundo (condicionante). Como output, devuelve un valor numérico que corresponde a la entropía condicional de entre los vectores de entrada. Sirve tanto para variables numéricas como para categóricas. Abajo se muestran unos ejemplos:"
   ]
  },
  {
   "cell_type": "code",
   "execution_count": 53,
   "metadata": {},
   "outputs": [
    {
     "name": "stdout",
     "output_type": "stream",
     "text": [
      "Vector condicionado:  [23 41 32 58 26]\n",
      "Vector condicionante:  [ True False  True  True False]\n",
      "Valor de la entropía condicional:  1.3509775004326936\n",
      "\n",
      "\n",
      "Vector condicionado:  [ True False  True  True False]\n",
      "Vector condicionante:  [23 41 32 58 26]\n",
      "Valor de la entropía condicional:  0.0\n",
      "\n",
      "\n",
      "Vector condicionado:  [ True False  True  True False]\n",
      "Vector condicionante:  ['Long' 'Short' 'Long' 'Short' 'Long']\n",
      "Valor de la entropía condicional:  0.9509775004326937\n",
      "\n",
      "\n",
      "Vector condicionado:  ['Jon' 'Bill' 'Maria' 'Ben' 'Tina']\n",
      "Vector condicionante:  [1.75 1.68 1.56 1.86 1.76]\n",
      "Valor de la entropía condicional:  0.0\n",
      "\n",
      "\n"
     ]
    }
   ],
   "source": [
    "condicionado = df[\"Age\"]\n",
    "condicionante = df[\"Independent\"]\n",
    "cond_entrpy = conditional_entropy(condicionado, condicionante)\n",
    "print(\"Vector condicionado: \", np.array(condicionado))\n",
    "print(\"Vector condicionante: \", np.array(condicionante))\n",
    "print(\"Valor de la entropía condicional: \", cond_entrpy)\n",
    "print(\"\\n\")\n",
    "\n",
    "condicionado = df[\"Independent\"]\n",
    "condicionante = df[\"Age\"]\n",
    "cond_entrpy = conditional_entropy(condicionado, condicionante)\n",
    "print(\"Vector condicionado: \", np.array(condicionado))\n",
    "print(\"Vector condicionante: \", np.array(condicionante))\n",
    "print(\"Valor de la entropía condicional: \", cond_entrpy)\n",
    "print(\"\\n\")\n",
    "\n",
    "condicionado = df[\"Independent\"]\n",
    "condicionante = df[\"Hair\"]\n",
    "cond_entrpy = conditional_entropy(condicionado, condicionante)\n",
    "print(\"Vector condicionado: \", np.array(condicionado))\n",
    "print(\"Vector condicionante: \", np.array(condicionante))\n",
    "print(\"Valor de la entropía condicional: \", cond_entrpy)\n",
    "print(\"\\n\")\n",
    "\n",
    "condicionado = df[\"Name\"]\n",
    "condicionante = df[\"Height\"]\n",
    "cond_entrpy = conditional_entropy(condicionado, condicionante)\n",
    "print(\"Vector condicionado: \", np.array(condicionado))\n",
    "print(\"Vector condicionante: \", np.array(condicionante))\n",
    "print(\"Valor de la entropía condicional: \", cond_entrpy)\n",
    "print(\"\\n\")\n"
   ]
  }
 ],
 "metadata": {
  "kernelspec": {
   "display_name": "Python 3",
   "language": "python",
   "name": "python3"
  },
  "language_info": {
   "codemirror_mode": {
    "name": "ipython",
    "version": 3
   },
   "file_extension": ".py",
   "mimetype": "text/x-python",
   "name": "python",
   "nbconvert_exporter": "python",
   "pygments_lexer": "ipython3",
   "version": "3.10.0"
  },
  "orig_nbformat": 4
 },
 "nbformat": 4,
 "nbformat_minor": 2
}
